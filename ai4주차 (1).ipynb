{
 "cells": [
  {
   "cell_type": "code",
   "execution_count": 1,
   "id": "bd378a0f",
   "metadata": {},
   "outputs": [
    {
     "name": "stdout",
     "output_type": "stream",
     "text": [
      "[1, 4, 7, 10, 13, 16, 19]\n"
     ]
    }
   ],
   "source": [
    "x = list(range(1, 20, 3))\n",
    "print(x)"
   ]
  },
  {
   "cell_type": "code",
   "execution_count": 2,
   "id": "b1e862f1",
   "metadata": {},
   "outputs": [
    {
     "name": "stdout",
     "output_type": "stream",
     "text": [
      "[0.5 0.8 1.1 1.4 1.7]\n"
     ]
    }
   ],
   "source": [
    "import numpy as np\n",
    "\n",
    "x = np.arange(0.5, 2.0, 0.3)\n",
    "print(x)"
   ]
  },
  {
   "cell_type": "code",
   "execution_count": 3,
   "id": "4dc37168",
   "metadata": {},
   "outputs": [
    {
     "data": {
      "text/plain": [
       "array([0.5, 0.8, 1.1, 1.4, 1.7])"
      ]
     },
     "execution_count": 3,
     "metadata": {},
     "output_type": "execute_result"
    }
   ],
   "source": [
    "x"
   ]
  },
  {
   "cell_type": "code",
   "execution_count": 4,
   "id": "0f93aad2",
   "metadata": {},
   "outputs": [],
   "source": [
    "x += 10"
   ]
  },
  {
   "cell_type": "code",
   "execution_count": 5,
   "id": "2bf43d3f",
   "metadata": {},
   "outputs": [
    {
     "data": {
      "text/plain": [
       "array([10.5, 10.8, 11.1, 11.4, 11.7])"
      ]
     },
     "execution_count": 5,
     "metadata": {},
     "output_type": "execute_result"
    }
   ],
   "source": [
    "x"
   ]
  },
  {
   "cell_type": "code",
   "execution_count": 11,
   "id": "721d46ae",
   "metadata": {},
   "outputs": [
    {
     "data": {
      "text/plain": [
       "array([0.5, 0.7, 0.9, 1.1, 1.3, 1.5, 1.7, 1.9, 2.1, 2.3, 2.5, 2.7, 2.9,\n",
       "       3.1, 3.3, 3.5, 3.7, 3.9, 4.1, 4.3, 4.5, 4.7, 4.9, 5.1, 5.3, 5.5,\n",
       "       5.7, 5.9, 6.1, 6.3, 6.5, 6.7, 6.9, 7.1, 7.3, 7.5, 7.7, 7.9, 8.1,\n",
       "       8.3, 8.5, 8.7, 8.9, 9.1, 9.3, 9.5, 9.7, 9.9])"
      ]
     },
     "execution_count": 11,
     "metadata": {},
     "output_type": "execute_result"
    }
   ],
   "source": [
    "import numpy as np\n",
    "\n",
    "y = np.arange(0.5, 10.0, 0.2)\n",
    "\n",
    "y"
   ]
  },
  {
   "cell_type": "code",
   "execution_count": 12,
   "id": "f8b6e5df",
   "metadata": {},
   "outputs": [
    {
     "data": {
      "text/plain": [
       "array([ 1. ,  1.4,  1.8,  2.2,  2.6,  3. ,  3.4,  3.8,  4.2,  4.6,  5. ,\n",
       "        5.4,  5.8,  6.2,  6.6,  7. ,  7.4,  7.8,  8.2,  8.6,  9. ,  9.4,\n",
       "        9.8, 10.2, 10.6, 11. , 11.4, 11.8, 12.2, 12.6, 13. , 13.4, 13.8,\n",
       "       14.2, 14.6, 15. , 15.4, 15.8, 16.2, 16.6, 17. , 17.4, 17.8, 18.2,\n",
       "       18.6, 19. , 19.4, 19.8])"
      ]
     },
     "execution_count": 12,
     "metadata": {},
     "output_type": "execute_result"
    }
   ],
   "source": [
    "y *= 2\n",
    "y"
   ]
  },
  {
   "cell_type": "code",
   "execution_count": 14,
   "id": "e7523855",
   "metadata": {},
   "outputs": [],
   "source": [
    "import numpy as np\n",
    "\n",
    "midtest = [90, 80, 70, 60, 50]\n",
    "finaltest = [80, 70, 60, 50, 40]\n",
    "\n",
    "중간 = np.array(midtest)\n",
    "기말 = np.array(finaltest)\n"
   ]
  },
  {
   "cell_type": "code",
   "execution_count": 28,
   "id": "cc37643a",
   "metadata": {},
   "outputs": [
    {
     "name": "stdout",
     "output_type": "stream",
     "text": [
      "정육면체 1\n",
      "[5, 5, 10]\n",
      "정육면체 2\n",
      "[ 5.5  5.5 10.5]\n"
     ]
    }
   ],
   "source": [
    "import numpy as np\n",
    "\n",
    "rec = [5,5,10]\n",
    "\n",
    "print(\"정육면체 1\")\n",
    "print(rec)\n",
    "\n",
    "rec1 = np.array(rec)\n",
    "\n",
    "rec2 = rec1 + 0.5\n",
    "print(\"정육면체 2\")\n",
    "print(rec2)"
   ]
  },
  {
   "cell_type": "code",
   "execution_count": 30,
   "id": "946e34af",
   "metadata": {},
   "outputs": [
    {
     "name": "stdout",
     "output_type": "stream",
     "text": [
      "[1 3 5 7 9]\n",
      "[1.  1.8 2.6 3.4 4.2]\n",
      "[ 2.   4.8  7.6 10.4 13.2]\n"
     ]
    }
   ],
   "source": [
    "import numpy as np\n",
    "\n",
    "x = np.arange(1,10,2)\n",
    "print(x)\n",
    "\n",
    "y = np.arange(1, 5, 0.8)\n",
    "print(y)\n",
    "\n",
    "z = x+y\n",
    "\n",
    "print(z)"
   ]
  },
  {
   "cell_type": "code",
   "execution_count": 42,
   "id": "928798f9",
   "metadata": {},
   "outputs": [
    {
     "data": {
      "text/plain": [
       "<function matplotlib.pyplot.show(close=None, block=None)>"
      ]
     },
     "execution_count": 42,
     "metadata": {},
     "output_type": "execute_result"
    },
    {
     "data": {
      "image/png": "[encoded data removed]",
      "text/plain": [
       "<Figure size 432x288 with 1 Axes>"
      ]
     },
     "metadata": {
      "needs_background": "light"
     },
     "output_type": "display_data"
    }
   ],
   "source": [
    "import numpy as np\n",
    "import matplotlib.pyplot as plt\n",
    "\n",
    "x= np.arange(0,4,1)\n",
    "y = 2*x+1\n",
    "\n",
    "plt.plot(x,y)\n",
    "\n",
    "plt.show"
   ]
  },
  {
   "cell_type": "code",
   "execution_count": 46,
   "id": "d31b5245",
   "metadata": {},
   "outputs": [
    {
     "data": {
      "text/plain": [
       "<function matplotlib.pyplot.show(close=None, block=None)>"
      ]
     },
     "execution_count": 46,
     "metadata": {},
     "output_type": "execute_result"
    },
    {
     "data": {
      "image/png": "[encoded data removed]",
      "text/plain": [
       "<Figure size 432x288 with 1 Axes>"
      ]
     },
     "metadata": {
      "needs_background": "light"
     },
     "output_type": "display_data"
    }
   ],
   "source": [
    "import numpy as np\n",
    "import matplotlib.pyplot as plt\n",
    "\n",
    "xarr = np.arange(0, 3.14159265358979323846*2, 0.0001)\n",
    "ysin = np.sin(xarr)\n",
    "ycos = np.cos(xarr)\n",
    "\n",
    "plt.plot(xarr, ysin)\n",
    "plt.plot(xarr, ycos)\n",
    "\n",
    "plt.show"
   ]
  },
  {
   "cell_type": "code",
   "execution_count": 48,
   "id": "637ad9c2",
   "metadata": {},
   "outputs": [
    {
     "name": "stdout",
     "output_type": "stream",
     "text": [
      "[75.32987794 83.60110944 67.43301872 61.46104175 80.45770169 63.6042702\n",
      " 57.09201766 84.66087138 72.40972486 70.50247436 78.14608365 66.7468742\n",
      " 80.99904076 71.91092506 72.82591081 63.96535076 60.29428501 59.16667721\n",
      " 72.71037862 65.08327263 69.18517717 55.18988641 63.68347519 60.68899011\n",
      " 63.50481246 60.46088675 84.65736718 79.88385319 53.85279349 67.21568475]\n"
     ]
    },
    {
     "data": {
      "text/plain": [
       "2066.723833433468"
      ]
     },
     "execution_count": 48,
     "metadata": {},
     "output_type": "execute_result"
    }
   ],
   "source": [
    "import numpy as np\n",
    "data =np.random.normal(70,10,30)\n",
    "\n",
    "print(data)\n",
    "\n",
    "np.sum(data)"
   ]
  },
  {
   "cell_type": "code",
   "execution_count": 51,
   "id": "96899a36",
   "metadata": {},
   "outputs": [
    {
     "data": {
      "text/plain": [
       "68.89079444778227"
      ]
     },
     "execution_count": 51,
     "metadata": {},
     "output_type": "execute_result"
    }
   ],
   "source": [
    "np.mean(data)"
   ]
  },
  {
   "cell_type": "code",
   "execution_count": 52,
   "id": "d1602c24",
   "metadata": {},
   "outputs": [
    {
     "data": {
      "text/plain": [
       "78.12419012216016"
      ]
     },
     "execution_count": 52,
     "metadata": {},
     "output_type": "execute_result"
    }
   ],
   "source": [
    "np.var(data)"
   ]
  },
  {
   "cell_type": "code",
   "execution_count": 53,
   "id": "9ea5d597",
   "metadata": {},
   "outputs": [
    {
     "data": {
      "text/plain": [
       "8.838788951104114"
      ]
     },
     "execution_count": 53,
     "metadata": {},
     "output_type": "execute_result"
    }
   ],
   "source": [
    "np.std(data)"
   ]
  },
  {
   "cell_type": "code",
   "execution_count": 55,
   "id": "57f9295b",
   "metadata": {},
   "outputs": [
    {
     "name": "stdout",
     "output_type": "stream",
     "text": [
      "[32 10 42  3 34  8]\n"
     ]
    }
   ],
   "source": [
    "data1 = np.random.randint(1,45,6)\n",
    "print(data1)"
   ]
  },
  {
   "cell_type": "code",
   "execution_count": 70,
   "id": "67f0b0a0",
   "metadata": {},
   "outputs": [
    {
     "name": "stdout",
     "output_type": "stream",
     "text": [
      "[3 2 3 1 4 2 1 4 3 1 6 1 3 1 5 1 4 5 1 6 6 5 3 3 4 6 1 6 6 6 6 5 2 5 5 4 5\n",
      " 6 1 4 2 2 6 5 1 5 4 6 4 3 4 6 2 2 4 1 1 1 2 3 2 2 2 5 4 6 4 4 2 2 5 6 4 5\n",
      " 2 3 6 1 4 3 4 1 1 5 2 4 3 4 5 4 6 4 2 5 3 5 6 2 1 4]\n"
     ]
    },
    {
     "data": {
      "text/plain": [
       "<function matplotlib.pyplot.show(close=None, block=None)>"
      ]
     },
     "execution_count": 70,
     "metadata": {},
     "output_type": "execute_result"
    },
    {
     "data": {
      "image/png": "[encoded data removed]",
      "text/plain": [
       "<Figure size 432x288 with 1 Axes>"
      ]
     },
     "metadata": {
      "needs_background": "light"
     },
     "output_type": "display_data"
    }
   ],
   "source": [
    "data1 = np.random.randint(1,7,100)\n",
    "print(data1)\n",
    "data = np.array(data1)\n",
    "\n",
    "plt.hist(data1, color = \"pink\", bins = 6, width = 0.1)\n",
    "plt.show"
   ]
  },
  {
   "cell_type": "code",
   "execution_count": null,
   "id": "49b9651e",
   "metadata": {},
   "outputs": [],
   "source": []
  }
 ],
 "metadata": {
  "kernelspec": {
   "display_name": "Python 3 (ipykernel)",
   "language": "python",
   "name": "python3"
  },
  "language_info": {
   "codemirror_mode": {
    "name": "ipython",
    "version": 3
   },
   "file_extension": ".py",
   "mimetype": "text/x-python",
   "name": "python",
   "nbconvert_exporter": "python",
   "pygments_lexer": "ipython3",
   "version": "3.9.12"
  }
 },
 "nbformat": 4,
 "nbformat_minor": 5
}

{
  "nbformat": 4,
  "nbformat_minor": 0,
  "metadata": {
    "colab": {
      "provenance": [],
      "collapsed_sections": [],
      "authorship_tag": "ABX9TyMruE9xysLmuTi0ZGXnWStd",
      "include_colab_link": true
    },
    "kernelspec": {
      "name": "python3",
      "display_name": "Python 3"
    },
    "language_info": {
      "name": "python"
    }
  },
  "cells": [
    {
      "cell_type": "markdown",
      "metadata": {
        "id": "view-in-github",
        "colab_type": "text"
      },
      "source": [
        "<a href=\"https://colab.research.google.com/github/Marchosias72/AI_Data_Python/blob/Week3/3%EC%A3%BC%EC%B0%A8_%EC%A0%95%EB%A6%AC.ipynb\" target=\"_parent\"><img src=\"https://colab.research.google.com/assets/colab-badge.svg\" alt=\"Open In Colab\"/></a>"
      ]
    },
    {
      "cell_type": "code",
      "execution_count": 1,
      "metadata": {
        "id": "tuFhlLQlqF0j"
      },
      "outputs": [],
      "source": [
        "#Matplotlib 맛보기"
      ]
    },
    {
      "cell_type": "code",
      "source": [
        "#간단한 plot차트 그리기\n",
        "\n",
        "import matplotlib.pyplot as plt #matplotlib라이브러리 호출하여 plt로 정의\n",
        "\n",
        "values = [10,30,20,40,30] #리스트로 데이터 생성\n",
        "\n",
        "plt.plot(values) #values값을 y값으로 하여 차트 생성, x값은 0부터 차례대로 생성\n",
        "\n",
        "plt.show() #생성된 차트 표시"
      ],
      "metadata": {
        "colab": {
          "base_uri": "https://localhost:8080/",
          "height": 265
        },
        "id": "QW-PUp4fz2_6",
        "outputId": "6026af48-d9d8-496f-b0c9-227e0bbfce26"
      },
      "execution_count": 7,
      "outputs": [
        {
          "output_type": "display_data",
          "data": {
            "text/plain": [
              "<Figure size 432x288 with 1 Axes>"
            ],
            "image/png": "[encoded data removed]"
          },
          "metadata": {
            "needs_background": "light"
          }
        }
      ]
    },
    {
      "cell_type": "code",
      "source": [
        "# 간단한 bar 차트 그리기\n",
        "\n",
        "import matplotlib.pyplot as plt\n",
        "\n",
        "items = ['A', 'B', 'C', 'D','E'] #리스트로 데이터 생성; ''표시=문자형\n",
        "values = [10,30,20,40,30] \n",
        "\n",
        "plt.bar(items, values) #bar형 차트 생성; plt.bar(x축 데이터, y축 데이터)\n",
        "\n",
        "plt.show()"
      ],
      "metadata": {
        "colab": {
          "base_uri": "https://localhost:8080/",
          "height": 265
        },
        "id": "ZlCQgwjF0FbS",
        "outputId": "b21d75e0-ce8f-4a78-8f3b-2b160776b11c"
      },
      "execution_count": 9,
      "outputs": [
        {
          "output_type": "display_data",
          "data": {
            "text/plain": [
              "<Figure size 432x288 with 1 Axes>"
            ],
            "image/png": "[encoded data removed]"
          },
          "metadata": {
            "needs_background": "light"
          }
        }
      ]
    },
    {
      "cell_type": "code",
      "source": [
        "# 간단한 pi 차트 그리기\n",
        "\n",
        "import matplotlib.pyplot as plt\n",
        "\n",
        "lang = ['C', 'Java', 'python'] #리스트로 데이터 생성; ''표시=문자형\n",
        "count = [25, 30, 45] \n",
        "\n",
        "plt.pie(count, labels = lang) #pi형 차트 생성; plt.pie(비율, labels = 이름 붙일 데이터)\n",
        "\n",
        "plt.show()"
      ],
      "metadata": {
        "colab": {
          "base_uri": "https://localhost:8080/",
          "height": 248
        },
        "id": "s27PdP4W1vU9",
        "outputId": "71c54501-3403-4716-bc99-fe85aeba696c"
      },
      "execution_count": 10,
      "outputs": [
        {
          "output_type": "display_data",
          "data": {
            "text/plain": [
              "<Figure size 432x288 with 1 Axes>"
            ],
            "image/png": "[encoded data removed]"
          },
          "metadata": {}
        }
      ]
    },
    {
      "cell_type": "code",
      "source": [
        "# 간단한 Scatter 차트 그리기 (10, 20), (30, 50), (40, 70)\n",
        "\n",
        "import matplotlib.pyplot as plt\n",
        "\n",
        "x = [10, 30, 40]\n",
        "y = [20, 50, 70]\n",
        "\n",
        "plt.scatter(x,y) #scatter형 차트 생성; plt.scatter(x축 데이터, y축 데이터)\n",
        "plt.show()"
      ],
      "metadata": {
        "colab": {
          "base_uri": "https://localhost:8080/",
          "height": 265
        },
        "id": "oC9-QKi22gEe",
        "outputId": "5a3641f6-a249-4bca-aa41-8a8a17eac8e5"
      },
      "execution_count": 11,
      "outputs": [
        {
          "output_type": "display_data",
          "data": {
            "text/plain": [
              "<Figure size 432x288 with 1 Axes>"
            ],
            "image/png": "[encoded data removed]"
          },
          "metadata": {
            "needs_background": "light"
          }
        }
      ]
    },
    {
      "cell_type": "code",
      "source": [
        "#차트를 표현하는 기본 방식 10단계"
      ],
      "metadata": {
        "id": "gUzndtm23H5J"
      },
      "execution_count": 12,
      "outputs": []
    },
    {
      "cell_type": "code",
      "source": [
        "#시각화를 위해 matplotlib라이브러리 임포트\n",
        "\n",
        "import matplotlib.pyplot as plt "
      ],
      "metadata": {
        "id": "jE_dNbSY3iP_"
      },
      "execution_count": 13,
      "outputs": []
    },
    {
      "cell_type": "code",
      "source": [
        "# 리스트 자료형 형태로 데이터 생성\n",
        "\n",
        "import matplotlib.pyplot as plt \n",
        "\n",
        "data = [1,3,2,4]"
      ],
      "metadata": {
        "id": "fEmZB5OI3oDE"
      },
      "execution_count": 14,
      "outputs": []
    },
    {
      "cell_type": "code",
      "source": [
        "#차트 생성\n",
        "\n",
        "import matplotlib.pyplot as plt \n",
        "\n",
        "data = [1,3,2,4]\n",
        "\n",
        "plt.plot(data) #plot함수의 파라미터(매개변수)로 값이 존재하는 리스트 변수 입력\n",
        "\n",
        "#참조 x축 범위는 자동으로 생성(0부터 시작하여 1씩 증가)"
      ],
      "metadata": {
        "colab": {
          "base_uri": "https://localhost:8080/",
          "height": 283
        },
        "id": "jAatkIMq31xw",
        "outputId": "5429d650-7094-493e-986a-1fe4687372b9"
      },
      "execution_count": 15,
      "outputs": [
        {
          "output_type": "execute_result",
          "data": {
            "text/plain": [
              "[<matplotlib.lines.Line2D at 0x7fd386b94350>]"
            ]
          },
          "metadata": {},
          "execution_count": 15
        },
        {
          "output_type": "display_data",
          "data": {
            "text/plain": [
              "<Figure size 432x288 with 1 Axes>"
            ],
            "image/png": "[encoded data removed]"
          },
          "metadata": {
            "needs_background": "light"
          }
        }
      ]
    },
    {
      "cell_type": "code",
      "source": [
        "#데이터 생성\n",
        "\n",
        "import matplotlib.pyplot as plt \n",
        "\n",
        "data = [1,3,2,4]\n",
        "\n",
        "plt.plot(data)\n",
        "plt.show()\n",
        "\n",
        "#참조 show()로 호출하는 것이 원칙"
      ],
      "metadata": {
        "colab": {
          "base_uri": "https://localhost:8080/",
          "height": 265
        },
        "id": "PhIDlLHk38Yi",
        "outputId": "4a7d9deb-618f-4e64-886f-e72e27b95b71"
      },
      "execution_count": 16,
      "outputs": [
        {
          "output_type": "display_data",
          "data": {
            "text/plain": [
              "<Figure size 432x288 with 1 Axes>"
            ],
            "image/png": "[encoded data removed]"
          },
          "metadata": {
            "needs_background": "light"
          }
        }
      ]
    },
    {
      "cell_type": "code",
      "source": [
        "# 값을 변경해보기\n",
        "\n",
        "import matplotlib.pyplot as plt \n",
        "\n",
        "data = [23,30,33,27,30]\n",
        "\n",
        "plt.plot(data)\n",
        "plt.show()"
      ],
      "metadata": {
        "colab": {
          "base_uri": "https://localhost:8080/",
          "height": 265
        },
        "id": "9ZT_66dr4Uos",
        "outputId": "6c884f31-a991-43bd-9f47-c0058728a48a"
      },
      "execution_count": 17,
      "outputs": [
        {
          "output_type": "display_data",
          "data": {
            "text/plain": [
              "<Figure size 432x288 with 1 Axes>"
            ],
            "image/png": "[encoded data removed]"
          },
          "metadata": {
            "needs_background": "light"
          }
        }
      ]
    },
    {
      "cell_type": "code",
      "source": [
        "#점(marker) 표시하기\n",
        "\n",
        "import matplotlib.pyplot as plt \n",
        "\n",
        "data = [23,30,33,27,30]\n",
        "\n",
        "plt.plot(data, marker = 'o')\n",
        "plt.show()"
      ],
      "metadata": {
        "colab": {
          "base_uri": "https://localhost:8080/",
          "height": 265
        },
        "id": "Ajlcd1_14j9w",
        "outputId": "dc97c180-b032-4696-e63f-e1d73ec1fba8"
      },
      "execution_count": 21,
      "outputs": [
        {
          "output_type": "display_data",
          "data": {
            "text/plain": [
              "<Figure size 432x288 with 1 Axes>"
            ],
            "image/png": "[encoded data removed]"
          },
          "metadata": {
            "needs_background": "light"
          }
        }
      ]
    },
    {
      "cell_type": "code",
      "source": [
        "#색상(color) 변경하기\n",
        "\n",
        "import matplotlib.pyplot as plt \n",
        "\n",
        "data = [23,30,33,27,30]\n",
        "\n",
        "plt.plot(data, marker = 'o', color = 'red')\n",
        "plt.show()"
      ],
      "metadata": {
        "colab": {
          "base_uri": "https://localhost:8080/",
          "height": 265
        },
        "id": "KwnlGKv_4u0J",
        "outputId": "ad6d8e2c-ca79-4898-e2e9-b93a5bdef9e0"
      },
      "execution_count": 22,
      "outputs": [
        {
          "output_type": "display_data",
          "data": {
            "text/plain": [
              "<Figure size 432x288 with 1 Axes>"
            ],
            "image/png": "[encoded data removed]"
          },
          "metadata": {
            "needs_background": "light"
          }
        }
      ]
    },
    {
      "cell_type": "code",
      "source": [
        "#격자(grid) 표시하기\n",
        "\n",
        "import matplotlib.pyplot as plt \n",
        "\n",
        "data = [23,30,33,27,30]\n",
        "\n",
        "plt.plot(data, marker = 'o', color = 'red')\n",
        "plt.grid() #격자를 표시하는 함수, plt.grid(True)로 하여도 무관\n",
        "plt.show()"
      ],
      "metadata": {
        "colab": {
          "base_uri": "https://localhost:8080/",
          "height": 265
        },
        "id": "-tcx2WRE5CTZ",
        "outputId": "04a2b164-1616-42fb-b182-748d2dcd5f27"
      },
      "execution_count": 23,
      "outputs": [
        {
          "output_type": "display_data",
          "data": {
            "text/plain": [
              "<Figure size 432x288 with 1 Axes>"
            ],
            "image/png": "[encoded data removed]"
          },
          "metadata": {
            "needs_background": "light"
          }
        }
      ]
    },
    {
      "cell_type": "code",
      "source": [
        "# 제목 표시하기\n",
        "\n",
        "import matplotlib.pyplot as plt \n",
        "\n",
        "data = [23,30,33,27,30]\n",
        "\n",
        "plt.plot(data, marker = 'o', color = 'red', label = '2022')\n",
        "plt.grid() \n",
        "plt.title(\"Temp\") #제목을 표시하는 함수\n",
        "plt.legend() #plt.plot의 label을 표시하는 함수\n",
        "plt.show()"
      ],
      "metadata": {
        "colab": {
          "base_uri": "https://localhost:8080/",
          "height": 281
        },
        "id": "9l_1tav75LeU",
        "outputId": "59f9642a-4a17-4cbf-e866-46b3b4e57be7"
      },
      "execution_count": 26,
      "outputs": [
        {
          "output_type": "display_data",
          "data": {
            "text/plain": [
              "<Figure size 432x288 with 1 Axes>"
            ],
            "image/png": "[encoded data removed]"
          },
          "metadata": {
            "needs_background": "light"
          }
        }
      ]
    },
    {
      "cell_type": "code",
      "source": [
        "# 파일로 저장; 위치 주의 savefig()함수는 show()함수 전에 호출해야한다\n",
        "\n",
        "import matplotlib.pyplot as plt \n",
        "\n",
        "data = [23,30,33,27,30]\n",
        "\n",
        "plt.plot(data, marker = 'o', color = 'red', label = '2022')\n",
        "\n",
        "plt.grid() \n",
        "plt.title(\"Temp\") \n",
        "plt.legend() \n",
        "\n",
        "plt.savefig('기온변화.png')#차트를 이미지 파일로 저장; plt.savefig(\"파일이름.확장자\")\n",
        "plt.show()"
      ],
      "metadata": {
        "colab": {
          "base_uri": "https://localhost:8080/",
          "height": 281
        },
        "id": "eKBKiljP5fsd",
        "outputId": "8d723ada-c201-4682-ff3d-6709e7589049"
      },
      "execution_count": 27,
      "outputs": [
        {
          "output_type": "display_data",
          "data": {
            "text/plain": [
              "<Figure size 432x288 with 1 Axes>"
            ],
            "image/png": "[encoded data removed]"
          },
          "metadata": {
            "needs_background": "light"
          }
        }
      ]
    },
    {
      "cell_type": "code",
      "source": [
        "import matplotlib.pyplot as plt \n",
        "\n",
        "plt.plot([23,30,33,27,30]) #plot함수 파라미터로 리스트를 작성하여도 사용가능\n",
        "plt.show()"
      ],
      "metadata": {
        "colab": {
          "base_uri": "https://localhost:8080/",
          "height": 265
        },
        "id": "U05i9mwx65ov",
        "outputId": "7e1ef159-31a6-4824-a06c-52cfaa3772a8"
      },
      "execution_count": 28,
      "outputs": [
        {
          "output_type": "display_data",
          "data": {
            "text/plain": [
              "<Figure size 432x288 with 1 Axes>"
            ],
            "image/png": "[encoded data removed]"
          },
          "metadata": {
            "needs_background": "light"
          }
        }
      ]
    },
    {
      "cell_type": "code",
      "source": [
        "import matplotlib.pyplot as plt \n",
        "\n",
        "부서A판매량 = [10, 30, 20, 40]\n",
        "부서B판매량 = [20, 35, 27, 32]\n",
        "\n",
        "#색상의 경우 r,g,b형태 외 red, yellow, olive 등 가능\n",
        "\n",
        "#참조 x축 데이터를 따로 넣어주지 않으면 x축 범위는 자동으로 생성(0부터 시작하여 1씩 증가)\n",
        "\n",
        "plt.plot(부서A판매량, marker = 'o', color = 'r', markersize = 10, label = 'A') \n",
        "plt.plot(부서B판매량, marker = '*', color = 'b', markersize = 10, label = 'B')\n",
        "\n",
        "plt.title(\"Sales Volume comparison\") #제목을 표시하는 함수\n",
        "\n",
        "plt.grid() #격자를 표시하는 함수, plt.grid(True)로 하여도 무관\n",
        "\n",
        "plt.xlim(0,5) #x축 범위\n",
        "plt.ylim(0,50) #y축 범위\n",
        "\n",
        "plt.xlabel('Worker') #x축 이름\n",
        "plt.ylabel('Result') #y축 이름\n",
        "\n",
        "\n",
        "plt.legend() #plt.plot의 label을 표시하는 함수\n",
        "\n",
        "plt.show()"
      ],
      "metadata": {
        "colab": {
          "base_uri": "https://localhost:8080/",
          "height": 295
        },
        "id": "IguwyouF7Lyu",
        "outputId": "0b8c3390-641f-4f55-d297-61dda8c76f48"
      },
      "execution_count": 34,
      "outputs": [
        {
          "output_type": "display_data",
          "data": {
            "text/plain": [
              "<Figure size 432x288 with 1 Axes>"
            ],
            "image/png": "[encoded data removed]"
          },
          "metadata": {
            "needs_background": "light"
          }
        }
      ]
    },
    {
      "cell_type": "code",
      "source": [
        "import matplotlib.pyplot as plt \n",
        "\n",
        "부서A판매량 = [10, 30, 20, 40]\n",
        "부서B판매량 = [20, 35, 27, 32]\n",
        "사원번호 = ['101', '102', '103', '104']\n",
        "\n",
        "#색상의 경우 r,g,b형태 외 red, yellow, olive 등 가능\n",
        "\n",
        "#이 경우 x축 데이터를 넣어줌 x축데이터 다음 y축 데이터 입력\n",
        "\n",
        "plt.plot(사원번호, 부서A판매량, marker = 'o', color = 'r', markersize = 10, label = 'A') \n",
        "\n",
        "plt.title(\"Sales Volume comparison\") #제목을 표시하는 함수\n",
        "\n",
        "plt.grid() #격자를 표시하는 함수, plt.grid(True)로 하여도 무관\n",
        "\n",
        "plt.ylim(0,50) #y축 범위\n",
        "\n",
        "plt.xlabel('Worker') #x축 이름\n",
        "plt.ylabel('Result') #y축 이름\n",
        "\n",
        "\n",
        "plt.legend() #plt.plot의 label을 표시하는 함수\n",
        "\n",
        "plt.show()"
      ],
      "metadata": {
        "colab": {
          "base_uri": "https://localhost:8080/",
          "height": 295
        },
        "id": "U-nDnMP68Vz0",
        "outputId": "5df507e6-af02-494b-a87e-e6cc605c79c8"
      },
      "execution_count": 36,
      "outputs": [
        {
          "output_type": "display_data",
          "data": {
            "text/plain": [
              "<Figure size 432x288 with 1 Axes>"
            ],
            "image/png": "[encoded data removed]"
          },
          "metadata": {
            "needs_background": "light"
          }
        }
      ]
    },
    {
      "cell_type": "code",
      "source": [
        "#x축 데이터와 y축 데이터를 교환한 코드, 위의 코드와 비교해서 생각해볼것\n",
        "\n",
        "import matplotlib.pyplot as plt \n",
        "\n",
        "부서A판매량 = [10, 30, 20, 40]\n",
        "부서B판매량 = [20, 35, 27, 32]\n",
        "사원번호 = ['101', '102', '103', '104']\n",
        "\n",
        "#색상의 경우 r,g,b형태 외 red, yellow, olive 등 가능\n",
        "\n",
        "#이 경우 x축 데이터를 넣어줌 x축데이터 다음 y축 데이터 입력\n",
        "\n",
        "plt.plot(부서A판매량, 사원번호, marker = 'o', color = 'r', markersize = 10, label = 'A') \n",
        "\n",
        "plt.title(\"Sales Volume comparison\") #제목을 표시하는 함수\n",
        "\n",
        "plt.grid() #격자를 표시하는 함수, plt.grid(True)로 하여도 무관\n",
        "\n",
        "\n",
        "plt.ylabel('Worker') #x축 이름\n",
        "plt.xlabel('Result') #y축 이름\n",
        "\n",
        "\n",
        "plt.legend() #plt.plot의 label을 표시하는 함수\n",
        "\n",
        "plt.show()"
      ],
      "metadata": {
        "colab": {
          "base_uri": "https://localhost:8080/",
          "height": 295
        },
        "id": "xioRPqqy-P8-",
        "outputId": "d25662fe-2d29-4cae-a5cc-b32bfe46a0de"
      },
      "execution_count": 39,
      "outputs": [
        {
          "output_type": "display_data",
          "data": {
            "text/plain": [
              "<Figure size 432x288 with 1 Axes>"
            ],
            "image/png": "[encoded data removed]"
          },
          "metadata": {
            "needs_background": "light"
          }
        }
      ]
    },
    {
      "cell_type": "code",
      "source": [
        "import matplotlib.pyplot as plt \n",
        "import numpy as np\n",
        "\n",
        "temp1994=[39.6,37.9,37.9,34.9,33.9,35.3,35.9,35.3,32.5,36.8] \n",
        "temp2018=[29.3,33.9,32.5,32.4,35.6,35.9,33.6,33.8,37.0,29.3]\n",
        "\n",
        "plt.plot(temp1994, marker='o', color= 'b', markersize = 5, label = '1994 ') #plt.plot(리스트 이름, marker='모양', color= '색', markersize = 크기, label = '이름 )\n",
        "plt.plot(temp2018, marker='o', color = 'orange', markersize = 5, label = '2018')\n",
        "\n",
        "plt.title('Temp')\n",
        "\n",
        "plt.xlabel('Day') #x축 이름\n",
        "plt.ylabel('Temp') #y축 이름\n",
        "\n",
        "plt.ylim(25,41)\n",
        "plt.xlim(0,9)\n",
        "\n",
        "plt.grid()\n",
        "\n",
        "plt.legend() \n",
        "\n",
        "plt.xticks(np.arange(0,10,1))#x축 값의 표시단위 xticks함수 np.arnage(0,10,1)는 0부터 9까지 1씩 증가하며 값 생성\n",
        "plt.yticks(np.arange(25,42,2))#x축 값의 표시단위 xticks함수 np.arnage(25,42,2)는 25부터 41까지 2씩 증가하며 값 생성\n",
        "\n",
        "plt.show() "
      ],
      "metadata": {
        "colab": {
          "base_uri": "https://localhost:8080/",
          "height": 295
        },
        "id": "e4JeH6aa-gxy",
        "outputId": "9d108e93-5535-43f4-ad7a-5f433f25ca27"
      },
      "execution_count": 44,
      "outputs": [
        {
          "output_type": "display_data",
          "data": {
            "text/plain": [
              "<Figure size 432x288 with 1 Axes>"
            ],
            "image/png": "[encoded data removed]"
          },
          "metadata": {
            "needs_background": "light"
          }
        }
      ]
    },
    {
      "cell_type": "code",
      "source": [
        "#판다스(Pandas) 활용"
      ],
      "metadata": {
        "id": "4x09n0EUATMy"
      },
      "execution_count": 45,
      "outputs": []
    },
    {
      "cell_type": "code",
      "source": [
        "import pandas as pd\n",
        "\n",
        "stdData = [['kim', 20, '서울시'], ['lee', 25, '경기도'], ['park', 22, '제주도'], ['choi', 19, '강원도']]\n",
        "\n",
        "df = pd.DataFrame(stdData) # DataFrame()함수; 리스트로 DataFrmae 생성하여 df변수에 저장\n",
        "\n",
        "df"
      ],
      "metadata": {
        "colab": {
          "base_uri": "https://localhost:8080/",
          "height": 175
        },
        "id": "FqDvHfhmBO_I",
        "outputId": "041d3f7b-cd13-43e9-a9b2-e50ad0061cd1"
      },
      "execution_count": 46,
      "outputs": [
        {
          "output_type": "execute_result",
          "data": {
            "text/plain": [
              "      0   1    2\n",
              "0   kim  20  서울시\n",
              "1   lee  25  경기도\n",
              "2  park  22  제주도\n",
              "3  choi  19  강원도"
            ],
            "text/html": [
              "\n",
              "  <div id=\"df-5a840cc0-343e-4ba1-a023-58f969d93630\">\n",
              "    <div class=\"colab-df-container\">\n",
              "      <div>\n",
              "<style scoped>\n",
              "    .dataframe tbody tr th:only-of-type {\n",
              "        vertical-align: middle;\n",
              "    }\n",
              "\n",
              "    .dataframe tbody tr th {\n",
              "        vertical-align: top;\n",
              "    }\n",
              "\n",
              "    .dataframe thead th {\n",
              "        text-align: right;\n",
              "    }\n",
              "</style>\n",
              "<table border=\"1\" class=\"dataframe\">\n",
              "  <thead>\n",
              "    <tr style=\"text-align: right;\">\n",
              "      <th></th>\n",
              "      <th>0</th>\n",
              "      <th>1</th>\n",
              "      <th>2</th>\n",
              "    </tr>\n",
              "  </thead>\n",
              "  <tbody>\n",
              "    <tr>\n",
              "      <th>0</th>\n",
              "      <td>kim</td>\n",
              "      <td>20</td>\n",
              "      <td>서울시</td>\n",
              "    </tr>\n",
              "    <tr>\n",
              "      <th>1</th>\n",
              "      <td>lee</td>\n",
              "      <td>25</td>\n",
              "      <td>경기도</td>\n",
              "    </tr>\n",
              "    <tr>\n",
              "      <th>2</th>\n",
              "      <td>park</td>\n",
              "      <td>22</td>\n",
              "      <td>제주도</td>\n",
              "    </tr>\n",
              "    <tr>\n",
              "      <th>3</th>\n",
              "      <td>choi</td>\n",
              "      <td>19</td>\n",
              "      <td>강원도</td>\n",
              "    </tr>\n",
              "  </tbody>\n",
              "</table>\n",
              "</div>\n",
              "      <button class=\"colab-df-convert\" onclick=\"convertToInteractive('df-5a840cc0-343e-4ba1-a023-58f969d93630')\"\n",
              "              title=\"Convert this dataframe to an interactive table.\"\n",
              "              style=\"display:none;\">\n",
              "        \n",
              "  <svg xmlns=\"http://www.w3.org/2000/svg\" height=\"24px\"viewBox=\"0 0 24 24\"\n",
              "       width=\"24px\">\n",
              "    <path d=\"M0 0h24v24H0V0z\" fill=\"none\"/>\n",
              "    <path d=\"M18.56 5.44l.94 2.06.94-2.06 2.06-.94-2.06-.94-.94-2.06-.94 2.06-2.06.94zm-11 1L8.5 8.5l.94-2.06 2.06-.94-2.06-.94L8.5 2.5l-.94 2.06-2.06.94zm10 10l.94 2.06.94-2.06 2.06-.94-2.06-.94-.94-2.06-.94 2.06-2.06.94z\"/><path d=\"M17.41 7.96l-1.37-1.37c-.4-.4-.92-.59-1.43-.59-.52 0-1.04.2-1.43.59L10.3 9.45l-7.72 7.72c-.78.78-.78 2.05 0 2.83L4 21.41c.39.39.9.59 1.41.59.51 0 1.02-.2 1.41-.59l7.78-7.78 2.81-2.81c.8-.78.8-2.07 0-2.86zM5.41 20L4 18.59l7.72-7.72 1.47 1.35L5.41 20z\"/>\n",
              "  </svg>\n",
              "      </button>\n",
              "      \n",
              "  <style>\n",
              "    .colab-df-container {\n",
              "      display:flex;\n",
              "      flex-wrap:wrap;\n",
              "      gap: 12px;\n",
              "    }\n",
              "\n",
              "    .colab-df-convert {\n",
              "      background-color: #E8F0FE;\n",
              "      border: none;\n",
              "      border-radius: 50%;\n",
              "      cursor: pointer;\n",
              "      display: none;\n",
              "      fill: #1967D2;\n",
              "      height: 32px;\n",
              "      padding: 0 0 0 0;\n",
              "      width: 32px;\n",
              "    }\n",
              "\n",
              "    .colab-df-convert:hover {\n",
              "      background-color: #E2EBFA;\n",
              "      box-shadow: 0px 1px 2px rgba(60, 64, 67, 0.3), 0px 1px 3px 1px rgba(60, 64, 67, 0.15);\n",
              "      fill: #174EA6;\n",
              "    }\n",
              "\n",
              "    [theme=dark] .colab-df-convert {\n",
              "      background-color: #3B4455;\n",
              "      fill: #D2E3FC;\n",
              "    }\n",
              "\n",
              "    [theme=dark] .colab-df-convert:hover {\n",
              "      background-color: #434B5C;\n",
              "      box-shadow: 0px 1px 3px 1px rgba(0, 0, 0, 0.15);\n",
              "      filter: drop-shadow(0px 1px 2px rgba(0, 0, 0, 0.3));\n",
              "      fill: #FFFFFF;\n",
              "    }\n",
              "  </style>\n",
              "\n",
              "      <script>\n",
              "        const buttonEl =\n",
              "          document.querySelector('#df-5a840cc0-343e-4ba1-a023-58f969d93630 button.colab-df-convert');\n",
              "        buttonEl.style.display =\n",
              "          google.colab.kernel.accessAllowed ? 'block' : 'none';\n",
              "\n",
              "        async function convertToInteractive(key) {\n",
              "          const element = document.querySelector('#df-5a840cc0-343e-4ba1-a023-58f969d93630');\n",
              "          const dataTable =\n",
              "            await google.colab.kernel.invokeFunction('convertToInteractive',\n",
              "                                                     [key], {});\n",
              "          if (!dataTable) return;\n",
              "\n",
              "          const docLinkHtml = 'Like what you see? Visit the ' +\n",
              "            '<a target=\"_blank\" href=https://colab.research.google.com/notebooks/data_table.ipynb>data table notebook</a>'\n",
              "            + ' to learn more about interactive tables.';\n",
              "          element.innerHTML = '';\n",
              "          dataTable['output_type'] = 'display_data';\n",
              "          await google.colab.output.renderOutput(dataTable, element);\n",
              "          const docLink = document.createElement('div');\n",
              "          docLink.innerHTML = docLinkHtml;\n",
              "          element.appendChild(docLink);\n",
              "        }\n",
              "      </script>\n",
              "    </div>\n",
              "  </div>\n",
              "  "
            ]
          },
          "metadata": {},
          "execution_count": 46
        }
      ]
    },
    {
      "cell_type": "code",
      "source": [
        "import pandas as pd\n",
        "\n",
        "이름 = ['kim', 'lee', 'park', 'choi']\n",
        "나이 = [20, 25, 22, 19]\n",
        "주소 = ['서울시', '경기도', '제주도', '강원도']\n",
        "\n",
        "df2 = pd.DataFrame({'name': 이름, 'age': 나이, 'addr': 주소})\n",
        "df2"
      ],
      "metadata": {
        "colab": {
          "base_uri": "https://localhost:8080/",
          "height": 175
        },
        "id": "29lvf9CCCVcf",
        "outputId": "0f435ad6-64d0-4333-804c-f710b3c3cd8f"
      },
      "execution_count": 48,
      "outputs": [
        {
          "output_type": "execute_result",
          "data": {
            "text/plain": [
              "   name  age addr\n",
              "0   kim   20  서울시\n",
              "1   lee   25  경기도\n",
              "2  park   22  제주도\n",
              "3  choi   19  강원도"
            ],
            "text/html": [
              "\n",
              "  <div id=\"df-2a7d1d75-32b2-4e7e-afd2-18cc5b8f1569\">\n",
              "    <div class=\"colab-df-container\">\n",
              "      <div>\n",
              "<style scoped>\n",
              "    .dataframe tbody tr th:only-of-type {\n",
              "        vertical-align: middle;\n",
              "    }\n",
              "\n",
              "    .dataframe tbody tr th {\n",
              "        vertical-align: top;\n",
              "    }\n",
              "\n",
              "    .dataframe thead th {\n",
              "        text-align: right;\n",
              "    }\n",
              "</style>\n",
              "<table border=\"1\" class=\"dataframe\">\n",
              "  <thead>\n",
              "    <tr style=\"text-align: right;\">\n",
              "      <th></th>\n",
              "      <th>name</th>\n",
              "      <th>age</th>\n",
              "      <th>addr</th>\n",
              "    </tr>\n",
              "  </thead>\n",
              "  <tbody>\n",
              "    <tr>\n",
              "      <th>0</th>\n",
              "      <td>kim</td>\n",
              "      <td>20</td>\n",
              "      <td>서울시</td>\n",
              "    </tr>\n",
              "    <tr>\n",
              "      <th>1</th>\n",
              "      <td>lee</td>\n",
              "      <td>25</td>\n",
              "      <td>경기도</td>\n",
              "    </tr>\n",
              "    <tr>\n",
              "      <th>2</th>\n",
              "      <td>park</td>\n",
              "      <td>22</td>\n",
              "      <td>제주도</td>\n",
              "    </tr>\n",
              "    <tr>\n",
              "      <th>3</th>\n",
              "      <td>choi</td>\n",
              "      <td>19</td>\n",
              "      <td>강원도</td>\n",
              "    </tr>\n",
              "  </tbody>\n",
              "</table>\n",
              "</div>\n",
              "      <button class=\"colab-df-convert\" onclick=\"convertToInteractive('df-2a7d1d75-32b2-4e7e-afd2-18cc5b8f1569')\"\n",
              "              title=\"Convert this dataframe to an interactive table.\"\n",
              "              style=\"display:none;\">\n",
              "        \n",
              "  <svg xmlns=\"http://www.w3.org/2000/svg\" height=\"24px\"viewBox=\"0 0 24 24\"\n",
              "       width=\"24px\">\n",
              "    <path d=\"M0 0h24v24H0V0z\" fill=\"none\"/>\n",
              "    <path d=\"M18.56 5.44l.94 2.06.94-2.06 2.06-.94-2.06-.94-.94-2.06-.94 2.06-2.06.94zm-11 1L8.5 8.5l.94-2.06 2.06-.94-2.06-.94L8.5 2.5l-.94 2.06-2.06.94zm10 10l.94 2.06.94-2.06 2.06-.94-2.06-.94-.94-2.06-.94 2.06-2.06.94z\"/><path d=\"M17.41 7.96l-1.37-1.37c-.4-.4-.92-.59-1.43-.59-.52 0-1.04.2-1.43.59L10.3 9.45l-7.72 7.72c-.78.78-.78 2.05 0 2.83L4 21.41c.39.39.9.59 1.41.59.51 0 1.02-.2 1.41-.59l7.78-7.78 2.81-2.81c.8-.78.8-2.07 0-2.86zM5.41 20L4 18.59l7.72-7.72 1.47 1.35L5.41 20z\"/>\n",
              "  </svg>\n",
              "      </button>\n",
              "      \n",
              "  <style>\n",
              "    .colab-df-container {\n",
              "      display:flex;\n",
              "      flex-wrap:wrap;\n",
              "      gap: 12px;\n",
              "    }\n",
              "\n",
              "    .colab-df-convert {\n",
              "      background-color: #E8F0FE;\n",
              "      border: none;\n",
              "      border-radius: 50%;\n",
              "      cursor: pointer;\n",
              "      display: none;\n",
              "      fill: #1967D2;\n",
              "      height: 32px;\n",
              "      padding: 0 0 0 0;\n",
              "      width: 32px;\n",
              "    }\n",
              "\n",
              "    .colab-df-convert:hover {\n",
              "      background-color: #E2EBFA;\n",
              "      box-shadow: 0px 1px 2px rgba(60, 64, 67, 0.3), 0px 1px 3px 1px rgba(60, 64, 67, 0.15);\n",
              "      fill: #174EA6;\n",
              "    }\n",
              "\n",
              "    [theme=dark] .colab-df-convert {\n",
              "      background-color: #3B4455;\n",
              "      fill: #D2E3FC;\n",
              "    }\n",
              "\n",
              "    [theme=dark] .colab-df-convert:hover {\n",
              "      background-color: #434B5C;\n",
              "      box-shadow: 0px 1px 3px 1px rgba(0, 0, 0, 0.15);\n",
              "      filter: drop-shadow(0px 1px 2px rgba(0, 0, 0, 0.3));\n",
              "      fill: #FFFFFF;\n",
              "    }\n",
              "  </style>\n",
              "\n",
              "      <script>\n",
              "        const buttonEl =\n",
              "          document.querySelector('#df-2a7d1d75-32b2-4e7e-afd2-18cc5b8f1569 button.colab-df-convert');\n",
              "        buttonEl.style.display =\n",
              "          google.colab.kernel.accessAllowed ? 'block' : 'none';\n",
              "\n",
              "        async function convertToInteractive(key) {\n",
              "          const element = document.querySelector('#df-2a7d1d75-32b2-4e7e-afd2-18cc5b8f1569');\n",
              "          const dataTable =\n",
              "            await google.colab.kernel.invokeFunction('convertToInteractive',\n",
              "                                                     [key], {});\n",
              "          if (!dataTable) return;\n",
              "\n",
              "          const docLinkHtml = 'Like what you see? Visit the ' +\n",
              "            '<a target=\"_blank\" href=https://colab.research.google.com/notebooks/data_table.ipynb>data table notebook</a>'\n",
              "            + ' to learn more about interactive tables.';\n",
              "          element.innerHTML = '';\n",
              "          dataTable['output_type'] = 'display_data';\n",
              "          await google.colab.output.renderOutput(dataTable, element);\n",
              "          const docLink = document.createElement('div');\n",
              "          docLink.innerHTML = docLinkHtml;\n",
              "          element.appendChild(docLink);\n",
              "        }\n",
              "      </script>\n",
              "    </div>\n",
              "  </div>\n",
              "  "
            ]
          },
          "metadata": {},
          "execution_count": 48
        }
      ]
    },
    {
      "cell_type": "code",
      "execution_count": null,
      "metadata": {
        "id": "061a6bca",
        "outputId": "5925ff55-289e-444f-da4e-bc3e2f3c558a"
      },
      "outputs": [
        {
          "data": {
            "image/png": "[encoded data removed]",
            "text/plain": [
              "<Figure size 432x288 with 1 Axes>"
            ]
          },
          "metadata": {
            "needs_background": "light"
          },
          "output_type": "display_data"
        }
      ],
      "source": [
        "import matplotlib.pyplot as plt\n",
        "import pandas as pd\n",
        "\n",
        "data = pd.read_excel('3주_data_연도별출생인구.xlsx')#Pandas 엑셀 파일 불러오기\n",
        "\n",
        "#특정 칼럼 선택하기; data변수의 데이터중 연도라는 이름의 칼럼(열)을 선택하여 x축데이터로 사용\n",
        "#data변수의 데이터중 출생아수라는 이름의 칼럼(열)을 선택하여 y축데이터로 사용\n",
        "plt.plot(data['연도'], data['출생아수'])\n",
        "plt.show()"
      ]
    },
    {
      "cell_type": "code",
      "execution_count": null,
      "metadata": {
        "id": "2c7deaba",
        "outputId": "2b13dfca-de01-456b-8c7d-86fbdb749a06"
      },
      "outputs": [
        {
          "data": {
            "text/html": [
              "<div>\n",
              "<style scoped>\n",
              "    .dataframe tbody tr th:only-of-type {\n",
              "        vertical-align: middle;\n",
              "    }\n",
              "\n",
              "    .dataframe tbody tr th {\n",
              "        vertical-align: top;\n",
              "    }\n",
              "\n",
              "    .dataframe thead th {\n",
              "        text-align: right;\n",
              "    }\n",
              "</style>\n",
              "<table border=\"1\" class=\"dataframe\">\n",
              "  <thead>\n",
              "    <tr style=\"text-align: right;\">\n",
              "      <th></th>\n",
              "      <th>연도</th>\n",
              "      <th>출생아수</th>\n",
              "      <th>천명당 출생률</th>\n",
              "    </tr>\n",
              "  </thead>\n",
              "  <tbody>\n",
              "    <tr>\n",
              "      <th>0</th>\n",
              "      <td>1951</td>\n",
              "      <td>728175</td>\n",
              "      <td>37.7</td>\n",
              "    </tr>\n",
              "    <tr>\n",
              "      <th>1</th>\n",
              "      <td>1952</td>\n",
              "      <td>775630</td>\n",
              "      <td>39.6</td>\n",
              "    </tr>\n",
              "    <tr>\n",
              "      <th>2</th>\n",
              "      <td>1953</td>\n",
              "      <td>830330</td>\n",
              "      <td>41.6</td>\n",
              "    </tr>\n",
              "  </tbody>\n",
              "</table>\n",
              "</div>"
            ],
            "text/plain": [
              "     연도    출생아수  천명당 출생률\n",
              "0  1951  728175     37.7\n",
              "1  1952  775630     39.6\n",
              "2  1953  830330     41.6"
            ]
          },
          "execution_count": 5,
          "metadata": {},
          "output_type": "execute_result"
        }
      ],
      "source": [
        "data[0:3]"
      ]
    },
    {
      "cell_type": "code",
      "execution_count": null,
      "metadata": {
        "id": "05e9bb46",
        "outputId": "d73b6064-765b-4ddd-95f2-ed9e22b6601f"
      },
      "outputs": [
        {
          "data": {
            "text/plain": [
              "0    1951\n",
              "1    1952\n",
              "2    1953\n",
              "3    1954\n",
              "4    1955\n",
              "5    1956\n",
              "6    1957\n",
              "7    1958\n",
              "8    1959\n",
              "9    1960\n",
              "Name: 연도, dtype: int64"
            ]
          },
          "execution_count": 7,
          "metadata": {},
          "output_type": "execute_result"
        }
      ],
      "source": [
        "data['연도'][0:10]"
      ]
    },
    {
      "cell_type": "code",
      "execution_count": null,
      "metadata": {
        "id": "0de5ecc5",
        "outputId": "b4fd342d-d87f-4d2e-ba9f-7a39a7cb2d55"
      },
      "outputs": [
        {
          "data": {
            "text/html": [
              "<div>\n",
              "<style scoped>\n",
              "    .dataframe tbody tr th:only-of-type {\n",
              "        vertical-align: middle;\n",
              "    }\n",
              "\n",
              "    .dataframe tbody tr th {\n",
              "        vertical-align: top;\n",
              "    }\n",
              "\n",
              "    .dataframe thead th {\n",
              "        text-align: right;\n",
              "    }\n",
              "</style>\n",
              "<table border=\"1\" class=\"dataframe\">\n",
              "  <thead>\n",
              "    <tr style=\"text-align: right;\">\n",
              "      <th></th>\n",
              "      <th>연도</th>\n",
              "      <th>출생아수</th>\n",
              "      <th>천명당 출생률</th>\n",
              "    </tr>\n",
              "  </thead>\n",
              "  <tbody>\n",
              "    <tr>\n",
              "      <th>60</th>\n",
              "      <td>2011</td>\n",
              "      <td>471265</td>\n",
              "      <td>9.4</td>\n",
              "    </tr>\n",
              "    <tr>\n",
              "      <th>61</th>\n",
              "      <td>2012</td>\n",
              "      <td>484550</td>\n",
              "      <td>9.6</td>\n",
              "    </tr>\n",
              "    <tr>\n",
              "      <th>62</th>\n",
              "      <td>2013</td>\n",
              "      <td>436455</td>\n",
              "      <td>8.6</td>\n",
              "    </tr>\n",
              "    <tr>\n",
              "      <th>63</th>\n",
              "      <td>2014</td>\n",
              "      <td>435435</td>\n",
              "      <td>8.6</td>\n",
              "    </tr>\n",
              "    <tr>\n",
              "      <th>64</th>\n",
              "      <td>2015</td>\n",
              "      <td>438420</td>\n",
              "      <td>8.6</td>\n",
              "    </tr>\n",
              "  </tbody>\n",
              "</table>\n",
              "</div>"
            ],
            "text/plain": [
              "      연도    출생아수  천명당 출생률\n",
              "60  2011  471265      9.4\n",
              "61  2012  484550      9.6\n",
              "62  2013  436455      8.6\n",
              "63  2014  435435      8.6\n",
              "64  2015  438420      8.6"
            ]
          },
          "execution_count": 9,
          "metadata": {},
          "output_type": "execute_result"
        }
      ],
      "source": [
        "data.tail(4)"
      ]
    },
    {
      "cell_type": "code",
      "execution_count": null,
      "metadata": {
        "id": "64b19f01",
        "outputId": "ca95d7e4-c41e-4f5c-adb5-e7252e9ca4be"
      },
      "outputs": [
        {
          "data": {
            "text/html": [
              "<div>\n",
              "<style scoped>\n",
              "    .dataframe tbody tr th:only-of-type {\n",
              "        vertical-align: middle;\n",
              "    }\n",
              "\n",
              "    .dataframe tbody tr th {\n",
              "        vertical-align: top;\n",
              "    }\n",
              "\n",
              "    .dataframe thead th {\n",
              "        text-align: right;\n",
              "    }\n",
              "</style>\n",
              "<table border=\"1\" class=\"dataframe\">\n",
              "  <thead>\n",
              "    <tr style=\"text-align: right;\">\n",
              "      <th></th>\n",
              "      <th>연도</th>\n",
              "      <th>출생아수</th>\n",
              "      <th>천명당 출생률</th>\n",
              "    </tr>\n",
              "  </thead>\n",
              "  <tbody>\n",
              "    <tr>\n",
              "      <th>0</th>\n",
              "      <td>1951</td>\n",
              "      <td>728175</td>\n",
              "      <td>37.7</td>\n",
              "    </tr>\n",
              "    <tr>\n",
              "      <th>1</th>\n",
              "      <td>1952</td>\n",
              "      <td>775630</td>\n",
              "      <td>39.6</td>\n",
              "    </tr>\n",
              "    <tr>\n",
              "      <th>2</th>\n",
              "      <td>1953</td>\n",
              "      <td>830330</td>\n",
              "      <td>41.6</td>\n",
              "    </tr>\n",
              "    <tr>\n",
              "      <th>3</th>\n",
              "      <td>1954</td>\n",
              "      <td>892236</td>\n",
              "      <td>43.4</td>\n",
              "    </tr>\n",
              "    <tr>\n",
              "      <th>4</th>\n",
              "      <td>1955</td>\n",
              "      <td>961055</td>\n",
              "      <td>45.4</td>\n",
              "    </tr>\n",
              "    <tr>\n",
              "      <th>5</th>\n",
              "      <td>1956</td>\n",
              "      <td>999005</td>\n",
              "      <td>45.2</td>\n",
              "    </tr>\n",
              "    <tr>\n",
              "      <th>6</th>\n",
              "      <td>1957</td>\n",
              "      <td>1016573</td>\n",
              "      <td>44.8</td>\n",
              "    </tr>\n",
              "  </tbody>\n",
              "</table>\n",
              "</div>"
            ],
            "text/plain": [
              "     연도     출생아수  천명당 출생률\n",
              "0  1951   728175     37.7\n",
              "1  1952   775630     39.6\n",
              "2  1953   830330     41.6\n",
              "3  1954   892236     43.4\n",
              "4  1955   961055     45.4\n",
              "5  1956   999005     45.2\n",
              "6  1957  1016573     44.8"
            ]
          },
          "execution_count": 14,
          "metadata": {},
          "output_type": "execute_result"
        }
      ],
      "source": [
        "data.head(7)"
      ]
    },
    {
      "cell_type": "code",
      "execution_count": null,
      "metadata": {
        "id": "effa37c1",
        "outputId": "987540ca-d8db-41c0-ccab-847019c67d50"
      },
      "outputs": [
        {
          "data": {
            "text/html": [
              "<div>\n",
              "<style scoped>\n",
              "    .dataframe tbody tr th:only-of-type {\n",
              "        vertical-align: middle;\n",
              "    }\n",
              "\n",
              "    .dataframe tbody tr th {\n",
              "        vertical-align: top;\n",
              "    }\n",
              "\n",
              "    .dataframe thead th {\n",
              "        text-align: right;\n",
              "    }\n",
              "</style>\n",
              "<table border=\"1\" class=\"dataframe\">\n",
              "  <thead>\n",
              "    <tr style=\"text-align: right;\">\n",
              "      <th></th>\n",
              "      <th>연도</th>\n",
              "      <th>출생아수</th>\n",
              "      <th>천명당 출생률</th>\n",
              "    </tr>\n",
              "  </thead>\n",
              "  <tbody>\n",
              "    <tr>\n",
              "      <th>0</th>\n",
              "      <td>1951</td>\n",
              "      <td>728175</td>\n",
              "      <td>37.7</td>\n",
              "    </tr>\n",
              "    <tr>\n",
              "      <th>1</th>\n",
              "      <td>1952</td>\n",
              "      <td>775630</td>\n",
              "      <td>39.6</td>\n",
              "    </tr>\n",
              "    <tr>\n",
              "      <th>2</th>\n",
              "      <td>1953</td>\n",
              "      <td>830330</td>\n",
              "      <td>41.6</td>\n",
              "    </tr>\n",
              "    <tr>\n",
              "      <th>3</th>\n",
              "      <td>1954</td>\n",
              "      <td>892236</td>\n",
              "      <td>43.4</td>\n",
              "    </tr>\n",
              "    <tr>\n",
              "      <th>4</th>\n",
              "      <td>1955</td>\n",
              "      <td>961055</td>\n",
              "      <td>45.4</td>\n",
              "    </tr>\n",
              "    <tr>\n",
              "      <th>...</th>\n",
              "      <td>...</td>\n",
              "      <td>...</td>\n",
              "      <td>...</td>\n",
              "    </tr>\n",
              "    <tr>\n",
              "      <th>60</th>\n",
              "      <td>2011</td>\n",
              "      <td>471265</td>\n",
              "      <td>9.4</td>\n",
              "    </tr>\n",
              "    <tr>\n",
              "      <th>61</th>\n",
              "      <td>2012</td>\n",
              "      <td>484550</td>\n",
              "      <td>9.6</td>\n",
              "    </tr>\n",
              "    <tr>\n",
              "      <th>62</th>\n",
              "      <td>2013</td>\n",
              "      <td>436455</td>\n",
              "      <td>8.6</td>\n",
              "    </tr>\n",
              "    <tr>\n",
              "      <th>63</th>\n",
              "      <td>2014</td>\n",
              "      <td>435435</td>\n",
              "      <td>8.6</td>\n",
              "    </tr>\n",
              "    <tr>\n",
              "      <th>64</th>\n",
              "      <td>2015</td>\n",
              "      <td>438420</td>\n",
              "      <td>8.6</td>\n",
              "    </tr>\n",
              "  </tbody>\n",
              "</table>\n",
              "<p>65 rows × 3 columns</p>\n",
              "</div>"
            ],
            "text/plain": [
              "      연도    출생아수  천명당 출생률\n",
              "0   1951  728175     37.7\n",
              "1   1952  775630     39.6\n",
              "2   1953  830330     41.6\n",
              "3   1954  892236     43.4\n",
              "4   1955  961055     45.4\n",
              "..   ...     ...      ...\n",
              "60  2011  471265      9.4\n",
              "61  2012  484550      9.6\n",
              "62  2013  436455      8.6\n",
              "63  2014  435435      8.6\n",
              "64  2015  438420      8.6\n",
              "\n",
              "[65 rows x 3 columns]"
            ]
          },
          "execution_count": 15,
          "metadata": {},
          "output_type": "execute_result"
        }
      ],
      "source": [
        "data"
      ]
    },
    {
      "cell_type": "code",
      "execution_count": null,
      "metadata": {
        "id": "d617a1a2",
        "outputId": "1e865ac3-8ef4-45d7-8cbe-e5c60698a658"
      },
      "outputs": [
        {
          "data": {
            "text/html": [
              "<div>\n",
              "<style scoped>\n",
              "    .dataframe tbody tr th:only-of-type {\n",
              "        vertical-align: middle;\n",
              "    }\n",
              "\n",
              "    .dataframe tbody tr th {\n",
              "        vertical-align: top;\n",
              "    }\n",
              "\n",
              "    .dataframe thead th {\n",
              "        text-align: right;\n",
              "    }\n",
              "</style>\n",
              "<table border=\"1\" class=\"dataframe\">\n",
              "  <thead>\n",
              "    <tr style=\"text-align: right;\">\n",
              "      <th></th>\n",
              "      <th>연도</th>\n",
              "      <th>출생아수</th>\n",
              "      <th>천명당 출생률</th>\n",
              "    </tr>\n",
              "  </thead>\n",
              "  <tbody>\n",
              "    <tr>\n",
              "      <th>29</th>\n",
              "      <td>1980</td>\n",
              "      <td>862835</td>\n",
              "      <td>22.6</td>\n",
              "    </tr>\n",
              "    <tr>\n",
              "      <th>30</th>\n",
              "      <td>1981</td>\n",
              "      <td>867409</td>\n",
              "      <td>22.4</td>\n",
              "    </tr>\n",
              "    <tr>\n",
              "      <th>31</th>\n",
              "      <td>1982</td>\n",
              "      <td>848312</td>\n",
              "      <td>21.6</td>\n",
              "    </tr>\n",
              "    <tr>\n",
              "      <th>32</th>\n",
              "      <td>1983</td>\n",
              "      <td>769155</td>\n",
              "      <td>19.3</td>\n",
              "    </tr>\n",
              "    <tr>\n",
              "      <th>33</th>\n",
              "      <td>1984</td>\n",
              "      <td>674793</td>\n",
              "      <td>16.7</td>\n",
              "    </tr>\n",
              "    <tr>\n",
              "      <th>34</th>\n",
              "      <td>1985</td>\n",
              "      <td>655489</td>\n",
              "      <td>16.1</td>\n",
              "    </tr>\n",
              "    <tr>\n",
              "      <th>35</th>\n",
              "      <td>1986</td>\n",
              "      <td>636019</td>\n",
              "      <td>15.4</td>\n",
              "    </tr>\n",
              "    <tr>\n",
              "      <th>36</th>\n",
              "      <td>1987</td>\n",
              "      <td>623831</td>\n",
              "      <td>15.0</td>\n",
              "    </tr>\n",
              "    <tr>\n",
              "      <th>37</th>\n",
              "      <td>1988</td>\n",
              "      <td>633092</td>\n",
              "      <td>15.1</td>\n",
              "    </tr>\n",
              "    <tr>\n",
              "      <th>38</th>\n",
              "      <td>1989</td>\n",
              "      <td>639431</td>\n",
              "      <td>15.1</td>\n",
              "    </tr>\n",
              "    <tr>\n",
              "      <th>39</th>\n",
              "      <td>1990</td>\n",
              "      <td>649738</td>\n",
              "      <td>15.2</td>\n",
              "    </tr>\n",
              "    <tr>\n",
              "      <th>40</th>\n",
              "      <td>1991</td>\n",
              "      <td>709275</td>\n",
              "      <td>16.4</td>\n",
              "    </tr>\n",
              "    <tr>\n",
              "      <th>41</th>\n",
              "      <td>1992</td>\n",
              "      <td>730678</td>\n",
              "      <td>16.7</td>\n",
              "    </tr>\n",
              "    <tr>\n",
              "      <th>42</th>\n",
              "      <td>1993</td>\n",
              "      <td>715826</td>\n",
              "      <td>16.0</td>\n",
              "    </tr>\n",
              "    <tr>\n",
              "      <th>43</th>\n",
              "      <td>1994</td>\n",
              "      <td>721185</td>\n",
              "      <td>16.0</td>\n",
              "    </tr>\n",
              "    <tr>\n",
              "      <th>44</th>\n",
              "      <td>1995</td>\n",
              "      <td>715020</td>\n",
              "      <td>15.7</td>\n",
              "    </tr>\n",
              "    <tr>\n",
              "      <th>45</th>\n",
              "      <td>1996</td>\n",
              "      <td>691226</td>\n",
              "      <td>15.0</td>\n",
              "    </tr>\n",
              "    <tr>\n",
              "      <th>46</th>\n",
              "      <td>1997</td>\n",
              "      <td>668344</td>\n",
              "      <td>14.4</td>\n",
              "    </tr>\n",
              "    <tr>\n",
              "      <th>47</th>\n",
              "      <td>1998</td>\n",
              "      <td>634790</td>\n",
              "      <td>13.6</td>\n",
              "    </tr>\n",
              "    <tr>\n",
              "      <th>48</th>\n",
              "      <td>1999</td>\n",
              "      <td>614233</td>\n",
              "      <td>13.0</td>\n",
              "    </tr>\n",
              "  </tbody>\n",
              "</table>\n",
              "</div>"
            ],
            "text/plain": [
              "      연도    출생아수  천명당 출생률\n",
              "29  1980  862835     22.6\n",
              "30  1981  867409     22.4\n",
              "31  1982  848312     21.6\n",
              "32  1983  769155     19.3\n",
              "33  1984  674793     16.7\n",
              "34  1985  655489     16.1\n",
              "35  1986  636019     15.4\n",
              "36  1987  623831     15.0\n",
              "37  1988  633092     15.1\n",
              "38  1989  639431     15.1\n",
              "39  1990  649738     15.2\n",
              "40  1991  709275     16.4\n",
              "41  1992  730678     16.7\n",
              "42  1993  715826     16.0\n",
              "43  1994  721185     16.0\n",
              "44  1995  715020     15.7\n",
              "45  1996  691226     15.0\n",
              "46  1997  668344     14.4\n",
              "47  1998  634790     13.6\n",
              "48  1999  614233     13.0"
            ]
          },
          "execution_count": 18,
          "metadata": {},
          "output_type": "execute_result"
        }
      ],
      "source": [
        "data.query('1980<=연도<2000')"
      ]
    },
    {
      "cell_type": "code",
      "execution_count": null,
      "metadata": {
        "id": "aff8df3f",
        "outputId": "6ecb3013-6ca9-4bba-d819-49167fd1781f"
      },
      "outputs": [
        {
          "data": {
            "text/html": [
              "<div>\n",
              "<style scoped>\n",
              "    .dataframe tbody tr th:only-of-type {\n",
              "        vertical-align: middle;\n",
              "    }\n",
              "\n",
              "    .dataframe tbody tr th {\n",
              "        vertical-align: top;\n",
              "    }\n",
              "\n",
              "    .dataframe thead th {\n",
              "        text-align: right;\n",
              "    }\n",
              "</style>\n",
              "<table border=\"1\" class=\"dataframe\">\n",
              "  <thead>\n",
              "    <tr style=\"text-align: right;\">\n",
              "      <th></th>\n",
              "      <th>연도</th>\n",
              "      <th>출생아수</th>\n",
              "      <th>천명당 출생률</th>\n",
              "    </tr>\n",
              "  </thead>\n",
              "  <tbody>\n",
              "    <tr>\n",
              "      <th>6</th>\n",
              "      <td>1957</td>\n",
              "      <td>1016573</td>\n",
              "      <td>44.8</td>\n",
              "    </tr>\n",
              "    <tr>\n",
              "      <th>7</th>\n",
              "      <td>1958</td>\n",
              "      <td>1046011</td>\n",
              "      <td>44.5</td>\n",
              "    </tr>\n",
              "    <tr>\n",
              "      <th>8</th>\n",
              "      <td>1959</td>\n",
              "      <td>1074876</td>\n",
              "      <td>44.2</td>\n",
              "    </tr>\n",
              "    <tr>\n",
              "      <th>9</th>\n",
              "      <td>1960</td>\n",
              "      <td>1099294</td>\n",
              "      <td>44.0</td>\n",
              "    </tr>\n",
              "    <tr>\n",
              "      <th>10</th>\n",
              "      <td>1961</td>\n",
              "      <td>1099164</td>\n",
              "      <td>42.7</td>\n",
              "    </tr>\n",
              "    <tr>\n",
              "      <th>11</th>\n",
              "      <td>1962</td>\n",
              "      <td>1089951</td>\n",
              "      <td>41.1</td>\n",
              "    </tr>\n",
              "    <tr>\n",
              "      <th>12</th>\n",
              "      <td>1963</td>\n",
              "      <td>1075203</td>\n",
              "      <td>39.4</td>\n",
              "    </tr>\n",
              "    <tr>\n",
              "      <th>13</th>\n",
              "      <td>1964</td>\n",
              "      <td>1057241</td>\n",
              "      <td>37.8</td>\n",
              "    </tr>\n",
              "    <tr>\n",
              "      <th>14</th>\n",
              "      <td>1965</td>\n",
              "      <td>1040544</td>\n",
              "      <td>36.3</td>\n",
              "    </tr>\n",
              "    <tr>\n",
              "      <th>15</th>\n",
              "      <td>1966</td>\n",
              "      <td>1028479</td>\n",
              "      <td>34.9</td>\n",
              "    </tr>\n",
              "    <tr>\n",
              "      <th>16</th>\n",
              "      <td>1967</td>\n",
              "      <td>1020235</td>\n",
              "      <td>33.9</td>\n",
              "    </tr>\n",
              "    <tr>\n",
              "      <th>17</th>\n",
              "      <td>1968</td>\n",
              "      <td>1016739</td>\n",
              "      <td>33.0</td>\n",
              "    </tr>\n",
              "    <tr>\n",
              "      <th>18</th>\n",
              "      <td>1969</td>\n",
              "      <td>1017618</td>\n",
              "      <td>32.3</td>\n",
              "    </tr>\n",
              "    <tr>\n",
              "      <th>19</th>\n",
              "      <td>1970</td>\n",
              "      <td>1006645</td>\n",
              "      <td>31.2</td>\n",
              "    </tr>\n",
              "    <tr>\n",
              "      <th>20</th>\n",
              "      <td>1971</td>\n",
              "      <td>1024773</td>\n",
              "      <td>31.2</td>\n",
              "    </tr>\n",
              "  </tbody>\n",
              "</table>\n",
              "</div>"
            ],
            "text/plain": [
              "      연도     출생아수  천명당 출생률\n",
              "6   1957  1016573     44.8\n",
              "7   1958  1046011     44.5\n",
              "8   1959  1074876     44.2\n",
              "9   1960  1099294     44.0\n",
              "10  1961  1099164     42.7\n",
              "11  1962  1089951     41.1\n",
              "12  1963  1075203     39.4\n",
              "13  1964  1057241     37.8\n",
              "14  1965  1040544     36.3\n",
              "15  1966  1028479     34.9\n",
              "16  1967  1020235     33.9\n",
              "17  1968  1016739     33.0\n",
              "18  1969  1017618     32.3\n",
              "19  1970  1006645     31.2\n",
              "20  1971  1024773     31.2"
            ]
          },
          "execution_count": 20,
          "metadata": {},
          "output_type": "execute_result"
        }
      ],
      "source": [
        "data.query('출생아수>=1000000')"
      ]
    },
    {
      "cell_type": "code",
      "execution_count": null,
      "metadata": {
        "id": "24b32433",
        "outputId": "10a16ff0-c32d-4a41-ab6e-d4002941ac49"
      },
      "outputs": [
        {
          "data": {
            "text/html": [
              "<div>\n",
              "<style scoped>\n",
              "    .dataframe tbody tr th:only-of-type {\n",
              "        vertical-align: middle;\n",
              "    }\n",
              "\n",
              "    .dataframe tbody tr th {\n",
              "        vertical-align: top;\n",
              "    }\n",
              "\n",
              "    .dataframe thead th {\n",
              "        text-align: right;\n",
              "    }\n",
              "</style>\n",
              "<table border=\"1\" class=\"dataframe\">\n",
              "  <thead>\n",
              "    <tr style=\"text-align: right;\">\n",
              "      <th></th>\n",
              "      <th>연도</th>\n",
              "      <th>출생아수</th>\n",
              "      <th>천명당 출생률</th>\n",
              "    </tr>\n",
              "  </thead>\n",
              "  <tbody>\n",
              "    <tr>\n",
              "      <th>49</th>\n",
              "      <td>2000</td>\n",
              "      <td>634501</td>\n",
              "      <td>13.3</td>\n",
              "    </tr>\n",
              "    <tr>\n",
              "      <th>50</th>\n",
              "      <td>2001</td>\n",
              "      <td>554895</td>\n",
              "      <td>11.6</td>\n",
              "    </tr>\n",
              "  </tbody>\n",
              "</table>\n",
              "</div>"
            ],
            "text/plain": [
              "      연도    출생아수  천명당 출생률\n",
              "49  2000  634501     13.3\n",
              "50  2001  554895     11.6"
            ]
          },
          "execution_count": 21,
          "metadata": {},
          "output_type": "execute_result"
        }
      ],
      "source": [
        "data.query('연도>=2000 & 출생아수 >=500000')"
      ]
    },
    {
      "cell_type": "code",
      "execution_count": null,
      "metadata": {
        "id": "14b77062",
        "outputId": "64661d14-6016-46ba-c7f1-06e11789a3a2"
      },
      "outputs": [
        {
          "data": {
            "image/png": "[encoded data removed]",
            "text/plain": [
              "<Figure size 432x288 with 1 Axes>"
            ]
          },
          "metadata": {
            "needs_background": "light"
          },
          "output_type": "display_data"
        }
      ],
      "source": [
        "import matplotlib.pyplot as plt #시험 x 조회 후 데이터 다시 입력 그래프 그리기\n",
        "import pandas as pd\n",
        "\n",
        "data = pd.read_excel('3주_data_연도별출생인구.xlsx')#Pandas 엑셀 파일 불러오기\n",
        "data = data.query('연도>=2000 & 출생아수 >=500000')\n",
        "plt.plot(data['연도'], data['출생아수'])\n",
        "plt.show()"
      ]
    },
    {
      "cell_type": "code",
      "execution_count": null,
      "metadata": {
        "id": "3114ab8e",
        "outputId": "f5fb07fc-65a4-4af0-f1e7-d5d9354f22c0"
      },
      "outputs": [
        {
          "data": {
            "text/html": [
              "<div>\n",
              "<style scoped>\n",
              "    .dataframe tbody tr th:only-of-type {\n",
              "        vertical-align: middle;\n",
              "    }\n",
              "\n",
              "    .dataframe tbody tr th {\n",
              "        vertical-align: top;\n",
              "    }\n",
              "\n",
              "    .dataframe thead th {\n",
              "        text-align: right;\n",
              "    }\n",
              "</style>\n",
              "<table border=\"1\" class=\"dataframe\">\n",
              "  <thead>\n",
              "    <tr style=\"text-align: right;\">\n",
              "      <th></th>\n",
              "      <th>10</th>\n",
              "      <th>20</th>\n",
              "      <th>30</th>\n",
              "    </tr>\n",
              "  </thead>\n",
              "  <tbody>\n",
              "    <tr>\n",
              "      <th>0</th>\n",
              "      <td>20</td>\n",
              "      <td>50</td>\n",
              "      <td>60</td>\n",
              "    </tr>\n",
              "  </tbody>\n",
              "</table>\n",
              "</div>"
            ],
            "text/plain": [
              "   10  20  30\n",
              "0  20  50  60"
            ]
          },
          "execution_count": 24,
          "metadata": {},
          "output_type": "execute_result"
        }
      ],
      "source": [
        "import pandas as pd\n",
        "\n",
        "a = pd.read_csv('샘플.csv')#comma seperated value(,로 구분되 파일), pd.read_확장자('파일이름')\n",
        "a"
      ]
    },
    {
      "cell_type": "code",
      "execution_count": null,
      "metadata": {
        "id": "630c93fb"
      },
      "outputs": [],
      "source": []
    }
  ]
}
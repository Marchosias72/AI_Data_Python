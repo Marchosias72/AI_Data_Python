{
  "nbformat": 4,
  "nbformat_minor": 0,
  "metadata": {
    "colab": {
      "provenance": [],
      "collapsed_sections": [],
      "authorship_tag": "ABX9TyMkG4Y8/Ea+EI4WRLqNbnv+",
      "include_colab_link": true
    },
    "kernelspec": {
      "name": "python3",
      "display_name": "Python 3"
    },
    "language_info": {
      "name": "python"
    }
  },
  "cells": [
    {
      "cell_type": "markdown",
      "metadata": {
        "id": "view-in-github",
        "colab_type": "text"
      },
      "source": [
        "<a href=\"https://colab.research.google.com/github/Marchosias72/AI_Data_Python/blob/Week4/4%EC%A3%BC%EC%B0%A8_%EC%A0%95%EB%A6%AC.ipynb\" target=\"_parent\"><img src=\"https://colab.research.google.com/assets/colab-badge.svg\" alt=\"Open In Colab\"/></a>"
      ]
    },
    {
      "cell_type": "code",
      "execution_count": 1,
      "metadata": {
        "id": "bW7Gq1GT7U4J"
      },
      "outputs": [],
      "source": [
        "#numpy를 활용한 데이터분석"
      ]
    },
    {
      "cell_type": "code",
      "source": [
        "import numpy as np\n",
        "import matplotlib.pyplot as plt"
      ],
      "metadata": {
        "id": "nH1Gslfs72To"
      },
      "execution_count": 11,
      "outputs": []
    },
    {
      "cell_type": "code",
      "source": [
        "중간 = [90, 80, 70, 60, 50]\n",
        "기말 = [80, 70, 60, 50, 40]\n",
        "\n",
        "mid = np.array(중간) #Numpy Array 생성\n",
        "fin = np.array(기말)\n",
        "\n",
        "score = (mid+fin)/2 + 7\n",
        "\n",
        "print(score)"
      ],
      "metadata": {
        "colab": {
          "base_uri": "https://localhost:8080/"
        },
        "id": "BX2Gk_Ji8CbQ",
        "outputId": "6fa3641d-aade-46a8-e68a-e0751f899982"
      },
      "execution_count": 3,
      "outputs": [
        {
          "output_type": "stream",
          "name": "stdout",
          "text": [
            "[92. 82. 72. 62. 52.]\n"
          ]
        }
      ]
    },
    {
      "cell_type": "code",
      "source": [
        "#Array 생성하기"
      ],
      "metadata": {
        "id": "lyepd0U-8fWF"
      },
      "execution_count": 4,
      "outputs": []
    },
    {
      "cell_type": "code",
      "source": [
        "data1 = [1,2,3,4,5]\n",
        "data1"
      ],
      "metadata": {
        "colab": {
          "base_uri": "https://localhost:8080/"
        },
        "id": "8q9iw9be8w88",
        "outputId": "dc2633ba-57de-4a8d-d26b-9e9d32309ca6"
      },
      "execution_count": 6,
      "outputs": [
        {
          "output_type": "execute_result",
          "data": {
            "text/plain": [
              "[1, 2, 3, 4, 5]"
            ]
          },
          "metadata": {},
          "execution_count": 6
        }
      ]
    },
    {
      "cell_type": "code",
      "source": [
        "arr1 = np.array(data1) #리스트를 array롤 변환하여 arr1변수에 저장\n",
        "arr1"
      ],
      "metadata": {
        "colab": {
          "base_uri": "https://localhost:8080/"
        },
        "id": "bq6otiz482ye",
        "outputId": "cb7dd1af-195d-4cb4-e438-8294f777fdbf"
      },
      "execution_count": 7,
      "outputs": [
        {
          "output_type": "execute_result",
          "data": {
            "text/plain": [
              "array([1, 2, 3, 4, 5])"
            ]
          },
          "metadata": {},
          "execution_count": 7
        }
      ]
    },
    {
      "cell_type": "code",
      "source": [
        "type(data1)"
      ],
      "metadata": {
        "colab": {
          "base_uri": "https://localhost:8080/"
        },
        "id": "p0oXfubg89DP",
        "outputId": "2464e72c-5e22-4459-bb26-61926e2ff2b5"
      },
      "execution_count": 8,
      "outputs": [
        {
          "output_type": "execute_result",
          "data": {
            "text/plain": [
              "list"
            ]
          },
          "metadata": {},
          "execution_count": 8
        }
      ]
    },
    {
      "cell_type": "code",
      "source": [
        "type(arr1)"
      ],
      "metadata": {
        "colab": {
          "base_uri": "https://localhost:8080/"
        },
        "id": "bO1hsYET8-dq",
        "outputId": "4bc927f5-6855-478a-b0d2-79f27a5329fb"
      },
      "execution_count": 9,
      "outputs": [
        {
          "output_type": "execute_result",
          "data": {
            "text/plain": [
              "numpy.ndarray"
            ]
          },
          "metadata": {},
          "execution_count": 9
        }
      ]
    },
    {
      "cell_type": "code",
      "source": [
        "#간단한 직선 그래프 생각해보기\n",
        "\n",
        "#np.arange(a,b,c) 시작값, 종료값, 증가값을 통한 array 생성\n",
        "\n",
        "#np.linspace(a,b,c) 시작값, 종료값, 구분수를 통한 array 생성 c; 등급의 개수 구간을  c개의 구간으로 나누는 array 생성"
      ],
      "metadata": {
        "id": "a7KdPNE_9AeL"
      },
      "execution_count": 10,
      "outputs": []
    },
    {
      "cell_type": "code",
      "source": [
        "xlist = [0,1,2,3]\n",
        "ylist = [1,3,5,7]\n",
        "\n",
        "plt.plot(xlist,ylist)\n",
        "plt.xlim(0.7)\n",
        "plt.ylim(0.7)\n",
        "\n",
        "plt.show()"
      ],
      "metadata": {
        "colab": {
          "base_uri": "https://localhost:8080/",
          "height": 265
        },
        "id": "2Jm5Xsrw-ETU",
        "outputId": "8676a3ac-bd76-4632-9ba8-7c919bfa3c95"
      },
      "execution_count": 15,
      "outputs": [
        {
          "output_type": "display_data",
          "data": {
            "text/plain": [
              "<Figure size 432x288 with 1 Axes>"
            ],
            "image/png": "[encoded data removed]"
          },
          "metadata": {
            "needs_background": "light"
          }
        }
      ]
    },
    {
      "cell_type": "code",
      "source": [
        "x= np.arange(0,4,1)\n",
        "y = 2*x+1\n",
        "plt.plot(x,y)\n",
        "plt.show()"
      ],
      "metadata": {
        "colab": {
          "base_uri": "https://localhost:8080/",
          "height": 265
        },
        "id": "u6KsCdIgH2_X",
        "outputId": "ae4b30c2-cfa6-4fe3-8f14-0f88e3c6b296"
      },
      "execution_count": 31,
      "outputs": [
        {
          "output_type": "display_data",
          "data": {
            "text/plain": [
              "<Figure size 432x288 with 1 Axes>"
            ],
            "image/png": "[encoded data removed]"
          },
          "metadata": {
            "needs_background": "light"
          }
        }
      ]
    },
    {
      "cell_type": "code",
      "source": [
        "xarr = np.arange(0, 3.14*2, 0.1)\n",
        "ysin = np.sin(xarr)\n",
        "ycos = np.cos(xarr)\n",
        "\n",
        "plt.plot(xarr, ysin, label = 'sin')\n",
        "plt.plot(xarr, ycos, label = 'cos')\n",
        "\n",
        "plt.title('sin&cos graphs')\n",
        "plt.xlabel('x value')\n",
        "plt.ylabel('y value')\n",
        "\n",
        "plt.legend()\n",
        "plt.grid(True)\n",
        "\n",
        "plt.show()"
      ],
      "metadata": {
        "colab": {
          "base_uri": "https://localhost:8080/",
          "height": 295
        },
        "id": "zGteBP6t-XU8",
        "outputId": "63373faa-e662-4d44-eeb8-ad07d36af0b7"
      },
      "execution_count": 22,
      "outputs": [
        {
          "output_type": "display_data",
          "data": {
            "text/plain": [
              "<Figure size 432x288 with 1 Axes>"
            ],
            "image/png": "[encoded data removed]"
          },
          "metadata": {
            "needs_background": "light"
          }
        }
      ]
    },
    {
      "cell_type": "code",
      "source": [
        "#np.linspace함수 이해하기"
      ],
      "metadata": {
        "id": "JGyfAjMFD4ID"
      },
      "execution_count": 17,
      "outputs": []
    },
    {
      "cell_type": "code",
      "source": [
        "a = np.linspace(1,10,10)\n",
        "\n",
        "print(a)"
      ],
      "metadata": {
        "colab": {
          "base_uri": "https://localhost:8080/"
        },
        "id": "pJeOD9hwEDqU",
        "outputId": "ae02054a-6944-4fe3-e46f-f6e09dd8c223"
      },
      "execution_count": 18,
      "outputs": [
        {
          "output_type": "stream",
          "name": "stdout",
          "text": [
            "[ 1.  2.  3.  4.  5.  6.  7.  8.  9. 10.]\n"
          ]
        }
      ]
    },
    {
      "cell_type": "code",
      "source": [
        "b = np.linspace(0,25,30)\n",
        "\n",
        "print(b)"
      ],
      "metadata": {
        "colab": {
          "base_uri": "https://localhost:8080/"
        },
        "id": "9GD-rDukEIbM",
        "outputId": "ab9b47cb-6b9b-4e6b-9d47-2efb7cd5932e"
      },
      "execution_count": 20,
      "outputs": [
        {
          "output_type": "stream",
          "name": "stdout",
          "text": [
            "[ 0.          0.86206897  1.72413793  2.5862069   3.44827586  4.31034483\n",
            "  5.17241379  6.03448276  6.89655172  7.75862069  8.62068966  9.48275862\n",
            " 10.34482759 11.20689655 12.06896552 12.93103448 13.79310345 14.65517241\n",
            " 15.51724138 16.37931034 17.24137931 18.10344828 18.96551724 19.82758621\n",
            " 20.68965517 21.55172414 22.4137931  23.27586207 24.13793103 25.        ]\n"
          ]
        }
      ]
    },
    {
      "cell_type": "code",
      "source": [
        "xarr = np.linspace(-np.pi, np.pi, 1000)\n",
        "ysin = np.sin(xarr)\n",
        "ycos = np.cos(xarr)\n",
        "\n",
        "plt.plot(xarr, ysin, label = 'sin')\n",
        "plt.plot(xarr, ycos, label = 'cos')\n",
        "\n",
        "plt.title('sin&cos graphs')\n",
        "plt.xlabel('x value')\n",
        "plt.ylabel('y value')\n",
        "\n",
        "plt.legend()\n",
        "plt.grid(True)\n",
        "\n",
        "plt.show()"
      ],
      "metadata": {
        "colab": {
          "base_uri": "https://localhost:8080/",
          "height": 295
        },
        "id": "Vir3VjBiERUa",
        "outputId": "d3b16cd8-97f3-4f0a-86fa-74eceeba263f"
      },
      "execution_count": 23,
      "outputs": [
        {
          "output_type": "display_data",
          "data": {
            "text/plain": [
              "<Figure size 432x288 with 1 Axes>"
            ],
            "image/png": "[encoded data removed]"
          },
          "metadata": {
            "needs_background": "light"
          }
        }
      ]
    },
    {
      "cell_type": "code",
      "source": [
        "#Numpy 활용"
      ],
      "metadata": {
        "id": "f9gTUbyDGG1G"
      },
      "execution_count": null,
      "outputs": []
    },
    {
      "cell_type": "code",
      "source": [
        "scores = []\n",
        "\n",
        "for i in range(0,5):\n",
        "  val = int(input('%d번 성적입력:' %(i+1)))\n",
        "  scores.append(val)\n",
        "\n",
        "print('\\n입력된 전체점수')\n",
        "print(scores)"
      ],
      "metadata": {
        "colab": {
          "base_uri": "https://localhost:8080/"
        },
        "id": "BJXkIPI4FC8G",
        "outputId": "42f00c1f-64fd-47a4-9287-6458b658f49f"
      },
      "execution_count": 27,
      "outputs": [
        {
          "output_type": "stream",
          "name": "stdout",
          "text": [
            "1번 성적입력100\n",
            "2번 성적입력90\n",
            "3번 성적입력80\n",
            "4번 성적입력70\n",
            "5번 성적입력60\n",
            "\n",
            "입력된 전체점수\n",
            "[100, 90, 80, 70, 60]\n"
          ]
        }
      ]
    },
    {
      "cell_type": "code",
      "source": [
        "sumr = np.sum(scores) #합계\n",
        "aver = np.mean(scores) #평균\n",
        "varr = np.var(scores) #분산\n",
        "stdr = np.std(scores) #표준편차\n",
        "\n",
        "print(sumr)\n",
        "print(aver)\n",
        "print(varr)\n",
        "print(stdr)"
      ],
      "metadata": {
        "colab": {
          "base_uri": "https://localhost:8080/"
        },
        "id": "yhLxWfjaFqCq",
        "outputId": "f57185ce-3f4c-4e9a-b22a-a4dd7cb6432c"
      },
      "execution_count": 29,
      "outputs": [
        {
          "output_type": "stream",
          "name": "stdout",
          "text": [
            "400\n",
            "80.0\n",
            "200.0\n",
            "14.142135623730951\n"
          ]
        }
      ]
    },
    {
      "cell_type": "code",
      "source": [
        "data4 = np.random.normal(170, 10, 30) #정규분포에 따라 난수 생성 np.random.normal(평균,표준편차,생성 수)\n",
        "data4"
      ],
      "metadata": {
        "colab": {
          "base_uri": "https://localhost:8080/"
        },
        "id": "X5WZjzlkGaf6",
        "outputId": "40ed1be1-3b3e-4d28-cb85-b0765600a897"
      },
      "execution_count": 30,
      "outputs": [
        {
          "output_type": "execute_result",
          "data": {
            "text/plain": [
              "array([184.29970612, 188.40652896, 182.6064703 , 173.45023742,\n",
              "       164.50786839, 161.5829995 , 166.83534541, 192.39175526,\n",
              "       172.72790892, 148.3179483 , 164.68208677, 172.27052021,\n",
              "       157.32673411, 179.55648091, 180.31733601, 174.43566552,\n",
              "       162.70520815, 146.50654065, 160.09345514, 173.44285308,\n",
              "       163.96280988, 162.93467974, 177.89865329, 181.5465685 ,\n",
              "       159.52788641, 168.97915145, 167.58829846, 157.82518266,\n",
              "       190.32061249, 175.91901397])"
            ]
          },
          "metadata": {},
          "execution_count": 30
        }
      ]
    },
    {
      "cell_type": "code",
      "source": [
        "data5 = np.random.randint(1,7,100) #초기값, 종료값 사이 난수 생성 np.random.randint(초기값,종료값,생성 수)\n",
        "print(data5)"
      ],
      "metadata": {
        "colab": {
          "base_uri": "https://localhost:8080/"
        },
        "id": "wQ14LYbvG_lS",
        "outputId": "b00edfdf-f4eb-4792-91bf-2379d1c04927"
      },
      "execution_count": 36,
      "outputs": [
        {
          "output_type": "stream",
          "name": "stdout",
          "text": [
            "[4 6 1 5 1 1 2 2 6 5 2 3 1 2 6 6 4 1 5 1 4 5 4 1 2 4 5 1 5 2 5 4 6 4 4 2 5\n",
            " 6 2 2 2 4 4 6 3 5 6 6 6 5 5 2 5 3 4 4 2 3 2 2 1 4 1 5 2 2 4 2 1 2 3 1 1 4\n",
            " 6 6 1 4 6 5 6 2 1 2 4 6 5 6 1 6 4 1 2 3 2 4 1 6 2 6]\n"
          ]
        }
      ]
    },
    {
      "cell_type": "code",
      "source": [
        "#matplotlib 데이터 시각화 중급"
      ],
      "metadata": {
        "id": "eQZ4v_bwIZ8L"
      },
      "execution_count": 37,
      "outputs": []
    },
    {
      "cell_type": "code",
      "source": [
        "# line 차트\n",
        "\n",
        "x = [1, 2, 3, 4]\n",
        "y = [10, 20 ,30, 40]\n",
        "\n",
        "plt.plot(x,y,color = 'black', label = 'Graph1', marker = 'o', linestyle = '--', linewidth = 3)\n",
        "\n",
        "plt.grid()\n",
        "plt.legend()\n",
        "\n",
        "ax = plt.subplot()\n",
        "ax.set_xticks([1,2,3,4])\n",
        "ax.set_xticklabels(['Jan', 'Feb', 'Mar', 'Apr'])\n",
        "ax.set_yticks([10,20,30,40])\n",
        "ax.set_yticklabels(['10M', '20M', '30M', '40M'])\n",
        "\n",
        "plt.show()"
      ],
      "metadata": {
        "colab": {
          "base_uri": "https://localhost:8080/",
          "height": 322
        },
        "id": "jEYkC2lHJVXa",
        "outputId": "66e4caa3-026b-4214-de29-4bd06f890685"
      },
      "execution_count": 52,
      "outputs": [
        {
          "output_type": "stream",
          "name": "stderr",
          "text": [
            "/usr/local/lib/python3.7/dist-packages/ipykernel_launcher.py:11: MatplotlibDeprecationWarning: Adding an axes using the same arguments as a previous axes currently reuses the earlier instance.  In a future version, a new instance will always be created and returned.  Meanwhile, this warning can be suppressed, and the future behavior ensured, by passing a unique label to each axes instance.\n",
            "  # This is added back by InteractiveShellApp.init_path()\n"
          ]
        },
        {
          "output_type": "display_data",
          "data": {
            "text/plain": [
              "<Figure size 432x288 with 1 Axes>"
            ],
            "image/png": "[encoded data removed]"
          },
          "metadata": {
            "needs_background": "light"
          }
        }
      ]
    },
    {
      "cell_type": "code",
      "source": [
        "#sctter차트\n",
        "\n",
        "plt.scatter(x,y)\n",
        "plt.show()"
      ],
      "metadata": {
        "colab": {
          "base_uri": "https://localhost:8080/",
          "height": 265
        },
        "id": "VQK81LNpJppO",
        "outputId": "fc716716-1066-417a-ee9c-cef73917a27a"
      },
      "execution_count": 46,
      "outputs": [
        {
          "output_type": "display_data",
          "data": {
            "text/plain": [
              "<Figure size 432x288 with 1 Axes>"
            ],
            "image/png": "[encoded data removed]"
          },
          "metadata": {
            "needs_background": "light"
          }
        }
      ]
    },
    {
      "cell_type": "code",
      "source": [
        "#sctter차트\n",
        "\n",
        "x5 = np.random.randint(0,50,20)\n",
        "y5 = np.random.randint(0,50,20)\n",
        "\n",
        "plt.scatter(x5,y5)\n",
        "plt.show()"
      ],
      "metadata": {
        "colab": {
          "base_uri": "https://localhost:8080/",
          "height": 265
        },
        "id": "7QDcf5czKx2T",
        "outputId": "1c966756-cc0e-45bb-8d30-14908ef57d3e"
      },
      "execution_count": 48,
      "outputs": [
        {
          "output_type": "display_data",
          "data": {
            "text/plain": [
              "<Figure size 432x288 with 1 Axes>"
            ],
            "image/png": "[encoded data removed]"
          },
          "metadata": {
            "needs_background": "light"
          }
        }
      ]
    },
    {
      "cell_type": "code",
      "source": [
        "#sctter차트\n",
        "\n",
        "x5 = np.random.randint(0,50,20)\n",
        "y5 = np.random.randint(0,50,20)\n",
        "colors = np.random.randint(0,20,20)\n",
        "sizes = np.random.randint(5,20,20)*5\n",
        "\n",
        "plt.scatter(x5,y5,c = colors,s=sizes)\n",
        "plt.show()"
      ],
      "metadata": {
        "colab": {
          "base_uri": "https://localhost:8080/",
          "height": 268
        },
        "id": "UbSATml8K-Ia",
        "outputId": "f0133eca-7584-420f-d5c9-dc1944c55452"
      },
      "execution_count": 49,
      "outputs": [
        {
          "output_type": "display_data",
          "data": {
            "text/plain": [
              "<Figure size 432x288 with 1 Axes>"
            ],
            "image/png": "[encoded data removed]"
          },
          "metadata": {
            "needs_background": "light"
          }
        }
      ]
    },
    {
      "cell_type": "code",
      "source": [
        "#bar차트\n",
        "\n",
        "plt.bar(x,y,width = 0.2, color = 'r')\n",
        "plt.show()"
      ],
      "metadata": {
        "colab": {
          "base_uri": "https://localhost:8080/",
          "height": 265
        },
        "id": "qSthYzhhLxuU",
        "outputId": "002a78d0-016b-4306-fab4-3990df3ef179"
      },
      "execution_count": 54,
      "outputs": [
        {
          "output_type": "display_data",
          "data": {
            "text/plain": [
              "<Figure size 432x288 with 1 Axes>"
            ],
            "image/png": "[encoded data removed]"
          },
          "metadata": {
            "needs_background": "light"
          }
        }
      ]
    },
    {
      "cell_type": "code",
      "source": [
        "data10 = np.random.normal(170,10,50)\n",
        "\n",
        "plt.hist(data10, rwidth = 0.2, color = 'black', alpha = 1) #alpha;명암\n",
        "plt.show()"
      ],
      "metadata": {
        "colab": {
          "base_uri": "https://localhost:8080/",
          "height": 265
        },
        "id": "dsIK7tgoMP5p",
        "outputId": "fb61fa6f-4f0e-42ad-9ba8-71e45f75a64a"
      },
      "execution_count": 60,
      "outputs": [
        {
          "output_type": "display_data",
          "data": {
            "text/plain": [
              "<Figure size 432x288 with 1 Axes>"
            ],
            "image/png": "[encoded data removed]"
          },
          "metadata": {
            "needs_background": "light"
          }
        }
      ]
    },
    {
      "cell_type": "code",
      "source": [
        "#Box plot\n",
        "plt.boxplot(data10)\n",
        "plt.show()"
      ],
      "metadata": {
        "colab": {
          "base_uri": "https://localhost:8080/",
          "height": 268
        },
        "id": "mfK-ZqQENYhL",
        "outputId": "f312a3d4-cade-4f12-87e4-05a510cccb2d"
      },
      "execution_count": 62,
      "outputs": [
        {
          "output_type": "display_data",
          "data": {
            "text/plain": [
              "<Figure size 432x288 with 1 Axes>"
            ],
            "image/png": "[encoded data removed]"
          },
          "metadata": {
            "needs_background": "light"
          }
        }
      ]
    },
    {
      "cell_type": "code",
      "source": [],
      "metadata": {
        "id": "SpyRp8rCNkz5"
      },
      "execution_count": null,
      "outputs": []
    }
  ]
}